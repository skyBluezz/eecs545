{
 "cells": [
  {
   "cell_type": "code",
   "execution_count": 1,
   "metadata": {},
   "outputs": [
    {
     "name": "stdout",
     "output_type": "stream",
     "text": [
      "Files already downloaded and verified\n",
      "Files already downloaded and verified\n"
     ]
    }
   ],
   "source": [
    "import torch\n",
    "import torch.nn as nn\n",
    "import torch.optim as optim\n",
    "import torch.nn.functional as F\n",
    "import torch.backends.cudnn as cudnn\n",
    "\n",
    "import torchvision\n",
    "import torchvision.transforms as transforms\n",
    "\n",
    "import os\n",
    "import argparse\n",
    "import numpy as np\n",
    "\n",
    "from models import *\n",
    "from utils import progress_bar\n",
    "from imp_baselines import *\n",
    "\n",
    "device = 'cuda' if torch.cuda.is_available() else 'cpu'"
   ]
  },
  {
   "cell_type": "code",
   "execution_count": 2,
   "metadata": {},
   "outputs": [],
   "source": [
    "from ptflops import get_model_complexity_info"
   ]
  },
  {
   "cell_type": "code",
   "execution_count": 3,
   "metadata": {},
   "outputs": [
    {
     "name": "stdout",
     "output_type": "stream",
     "text": [
      "Files already downloaded and verified\n",
      "Files already downloaded and verified\n"
     ]
    }
   ],
   "source": [
    "transform_train = transforms.Compose([\n",
    "    transforms.RandomCrop(32, padding=4),\n",
    "    transforms.RandomHorizontalFlip(),\n",
    "    transforms.ToTensor(),\n",
    "    transforms.Normalize((0.4914, 0.4822, 0.4465), (0.2023, 0.1994, 0.2010)),\n",
    "])\n",
    "\n",
    "transform_test = transforms.Compose([\n",
    "    transforms.ToTensor(),\n",
    "    transforms.Normalize((0.4914, 0.4822, 0.4465), (0.2023, 0.1994, 0.2010)),\n",
    "])\n",
    "\n",
    "trainset = torchvision.datasets.CIFAR100(root='./../data', train=True, download=True, transform=transform_train)\n",
    "trainloader = torch.utils.data.DataLoader(trainset, batch_size=128, shuffle=False, num_workers=4)\n",
    "\n",
    "testset = torchvision.datasets.CIFAR100(root='./../data', train=False, download=True, transform=transform_test)\n",
    "testloader = torch.utils.data.DataLoader(testset, batch_size=128, shuffle=False, num_workers=4)"
   ]
  },
  {
   "cell_type": "markdown",
   "metadata": {},
   "source": [
    "### Build and load base networks"
   ]
  },
  {
   "cell_type": "code",
   "execution_count": 4,
   "metadata": {},
   "outputs": [
    {
     "name": "stdout",
     "output_type": "stream",
     "text": [
      "==> Building model..\n"
     ]
    }
   ],
   "source": [
    "print('==> Building model..')\n",
    "net_corr = ResNet34()\n",
    "net_decorr = ResNet34().to(device)\n",
    "criterion = nn.CrossEntropyLoss()\n",
    "\n",
    "net_corr = net_corr.to(device)\n",
    "net_decorr = net_decorr.to(device)\n",
    "if device == 'cuda':\n",
    "    net_corr = torch.nn.DataParallel(net_corr)\n",
    "    net_decorr = torch.nn.DataParallel(net_decorr)\n",
    "    cudnn.benchmark = True"
   ]
  },
  {
   "cell_type": "code",
   "execution_count": 5,
   "metadata": {},
   "outputs": [
    {
     "data": {
      "text/plain": [
       "<All keys matched successfully>"
      ]
     },
     "execution_count": 5,
     "metadata": {},
     "output_type": "execute_result"
    }
   ],
   "source": [
    "PATH_corr = './w_decorr/base_params/cifar100_net.pth'\n",
    "net_dict = torch.load(PATH_corr)\n",
    "net_corr.load_state_dict(net_dict['net'])\n",
    "\n",
    "PATH_decorr = './w_decorr/base_params/wnet_base.pth'\n",
    "net_dict = torch.load(PATH_decorr)\n",
    "net_decorr.load_state_dict(net_dict['net_ortho'])"
   ]
  },
  {
   "cell_type": "code",
   "execution_count": 8,
   "metadata": {
    "scrolled": false
   },
   "outputs": [
    {
     "data": {
      "text/plain": [
       "[array([ 0.,  1.,  2.,  3.,  4.,  5.,  6.,  7.,  8.,  9., 10., 11., 12.,\n",
       "        13., 14., 15., 16., 17., 18., 19., 20., 21., 22., 23., 24., 25.,\n",
       "        26., 27., 28., 29., 30., 31., 32., 33., 34., 35., 36., 37., 38.,\n",
       "        39., 40., 41., 42., 43., 44., 45., 46., 47., 48., 49., 50., 51.,\n",
       "        52., 53., 54., 55., 56., 57., 58., 59., 60., 61., 62., 63.]),\n",
       " tensor([0.9281, 0.6417, 1.1833, 1.3572, 1.6598, 1.1922, 0.9523, 0.9194, 1.3004,\n",
       "         0.9991, 0.6146, 1.8701, 0.9258, 0.9355, 1.6306, 1.8105, 1.6758, 1.1271,\n",
       "         1.0802, 1.2220, 0.7697, 1.8095, 1.5406, 0.7243, 1.4830, 1.1796, 2.2444,\n",
       "         0.6324, 0.8965, 2.5882, 1.1646, 0.8950, 0.8849, 1.2358, 1.0347, 2.0343,\n",
       "         0.6978, 1.2911, 0.9901, 1.0696, 0.9263, 1.3304, 2.6852, 1.0501, 1.0119,\n",
       "         1.5679, 0.8214, 1.2203, 1.4939, 1.8544, 2.5120, 2.4663, 1.1768, 1.0522,\n",
       "         0.9579, 1.0658, 1.6419, 0.9822, 0.9519, 1.0726, 1.0564, 1.8252, 0.6968,\n",
       "         1.0791], device='cuda:0')]"
      ]
     },
     "execution_count": 8,
     "metadata": {},
     "output_type": "execute_result"
    }
   ],
   "source": [
    "cal_importance_l2(net_corr, net_corr.module.layer1[0].conv1)"
   ]
  },
  {
   "cell_type": "markdown",
   "metadata": {},
   "source": [
    "### Accuracy Calculator"
   ]
  },
  {
   "cell_type": "code",
   "execution_count": null,
   "metadata": {},
   "outputs": [],
   "source": [
    "def cal_acc(net_test):\n",
    "    net_test.eval()\n",
    "    test_loss = 0\n",
    "    correct = 0\n",
    "    total = 0\n",
    "    with torch.no_grad():\n",
    "        for batch_idx, (inputs, targets) in enumerate(testloader):\n",
    "            inputs, targets = inputs.to(device), targets.to(device)\n",
    "            outputs = net_test(inputs)\n",
    "\n",
    "            _, predicted = outputs.max(1)\n",
    "            total += targets.size(0)\n",
    "            correct += predicted.eq(targets).sum().item()\n",
    "\n",
    "        print(100 * correct / total)\n",
    "        \n",
    "    return 100 * correct / total"
   ]
  },
  {
   "cell_type": "markdown",
   "metadata": {},
   "source": [
    "### Importance Calculator"
   ]
  },
  {
   "cell_type": "code",
   "execution_count": null,
   "metadata": {},
   "outputs": [],
   "source": [
    "def cal_importance_fisher(net, l_id, num_stop=100):\n",
    "    num = 0\n",
    "    bias_base = l_id.bias.data.clone().detach()\n",
    "    av_corrval = 0\n",
    "\n",
    "    running_loss = 0.0\n",
    "    imp_corr_bn = torch.zeros(bias_base.shape[0]).to(device)\n",
    "\n",
    "    for i, data in enumerate(trainloader, 0):\n",
    "        inputs, labels = data[0].to(device), data[1].to(device)\n",
    "        optimizer.zero_grad()\n",
    "        outputs = net(inputs)\n",
    "        loss = criterion(outputs, labels)\n",
    "        loss.backward()\n",
    "\n",
    "        imp_corr_bn += (((l_id.weight.grad)*(l_id.weight.data)) + ((l_id.bias.grad)*(l_id.bias.data))).pow(2)\n",
    "        num += labels.shape[0]\n",
    "        if(num > num_stop):\n",
    "            break\n",
    "    \n",
    "    neuron_order = [np.linspace(0, imp_corr_bn.shape[0]-1, imp_corr_bn.shape[0]), imp_corr_bn]\n",
    "    \n",
    "    return neuron_order"
   ]
  },
  {
   "cell_type": "code",
   "execution_count": null,
   "metadata": {},
   "outputs": [],
   "source": [
    "def cal_importance_tfo(net, l_id, num_stop=100):\n",
    "    num = 0\n",
    "    bias_base = l_id.bias.data.clone().detach()\n",
    "    av_corrval = 0\n",
    "\n",
    "    running_loss = 0.0\n",
    "    imp_corr_bn = torch.zeros(bias_base.shape[0]).to(device)\n",
    "\n",
    "    for i, data in enumerate(trainloader, 0):\n",
    "        inputs, labels = data[0].to(device), data[1].to(device)\n",
    "        optimizer.zero_grad()\n",
    "        outputs = net(inputs)\n",
    "        loss = criterion(outputs, labels)\n",
    "        loss.backward()\n",
    "\n",
    "        imp_corr_bn += (((l_id.weight.grad)*(l_id.weight.data)) + ((l_id.bias.grad)*(l_id.bias.data))).abs()\n",
    "        num += labels.shape[0]\n",
    "        if(num > num_stop):\n",
    "            break\n",
    "    \n",
    "    neuron_order = [np.linspace(0, imp_corr_bn.shape[0]-1, imp_corr_bn.shape[0]), imp_corr_bn]\n",
    "    \n",
    "    return neuron_order"
   ]
  },
  {
   "cell_type": "code",
   "execution_count": null,
   "metadata": {},
   "outputs": [],
   "source": [
    "def cal_importance_netslim(net, l_id, num_stop=100):\n",
    "    running_loss = 0.0\n",
    "    imp_corr_bn = l_id.weight.data.abs()    \n",
    "    neuron_order = [np.linspace(0, imp_corr_bn.shape[0]-1, imp_corr_bn.shape[0]), imp_corr_bn]\n",
    "    return neuron_order"
   ]
  },
  {
   "cell_type": "code",
   "execution_count": null,
   "metadata": {},
   "outputs": [],
   "source": [
    "def cal_importance_netslim(net, l_id, num_stop=100):\n",
    "    num = 0\n",
    "    bias_base = l_id.bias.data.clone().detach()\n",
    "    av_corrval = 0\n",
    "\n",
    "    running_loss = 0.0\n",
    "    imp_corr_bn = l_id.weight.data.abs()\n",
    "    \n",
    "    neuron_order = [np.linspace(0, imp_corr_bn.shape[0]-1, imp_corr_bn.shape[0]), imp_corr_bn]\n",
    "    \n",
    "    return neuron_order"
   ]
  },
  {
   "cell_type": "markdown",
   "metadata": {},
   "source": [
    "### Time Calculator"
   ]
  },
  {
   "cell_type": "code",
   "execution_count": null,
   "metadata": {},
   "outputs": [],
   "source": [
    "import time"
   ]
  },
  {
   "cell_type": "code",
   "execution_count": null,
   "metadata": {},
   "outputs": [],
   "source": [
    "def cal_time(net_acc):\n",
    "    net_acc.eval()\n",
    "    testsamp = torch.rand(1,3,32,32).to(device)\n",
    "    \n",
    "    for i in range(5):\n",
    "        net_acc(testsamp)    \n",
    "    t_end = 0\n",
    "    t_s = time.time()\n",
    "    for i in range(25):\n",
    "        net_acc(testsamp)\n",
    "        t_end += time.time() - t_s\n",
    "    \n",
    "    return (t_end / 25)"
   ]
  },
  {
   "cell_type": "code",
   "execution_count": null,
   "metadata": {},
   "outputs": [],
   "source": [
    "t_corr = cal_time(net_corr)\n",
    "t_decorr = cal_time(net_decorr)"
   ]
  },
  {
   "cell_type": "markdown",
   "metadata": {},
   "source": [
    "### TFO importance"
   ]
  },
  {
   "cell_type": "code",
   "execution_count": null,
   "metadata": {},
   "outputs": [],
   "source": [
    "num_stop = 100"
   ]
  },
  {
   "cell_type": "code",
   "execution_count": null,
   "metadata": {},
   "outputs": [],
   "source": [
    "import pickle"
   ]
  },
  {
   "cell_type": "code",
   "execution_count": null,
   "metadata": {},
   "outputs": [],
   "source": [
    "with open(\"./w_decorr/base_params/tfo_corr.pkl\", 'rb') as f:\n",
    "    imp_order_corr = pickle.load(f)"
   ]
  },
  {
   "cell_type": "code",
   "execution_count": null,
   "metadata": {},
   "outputs": [],
   "source": [
    "optimizer = optim.SGD(net_corr.parameters(), lr=0, weight_decay=0)\n",
    "imp_order_corr = np.array([[],[],[]]).transpose()\n",
    "i = 0\n",
    "\n",
    "for l_index in net_corr.module.modules():\n",
    "    if(isinstance(l_index, nn.BatchNorm2d)):\n",
    "        print(l_index)\n",
    "        nlist = cal_importance(net_corr, l_index, num_stop)\n",
    "        imp_order_corr = np.concatenate((imp_order_corr,np.array([np.repeat([i],nlist[1].shape[0]).tolist(), nlist[0].tolist(), nlist[1].detach().cpu().numpy().tolist()]).transpose()), 0)\n",
    "        i+=1\n",
    "    \n",
    "with open(\"./w_decorr/base_params/tfo_corr.pkl\", 'wb') as f:\n",
    "    pickle.dump(imp_order_corr, f)"
   ]
  },
  {
   "cell_type": "code",
   "execution_count": null,
   "metadata": {},
   "outputs": [],
   "source": [
    "with open(\"./w_decorr/base_params/tfo_w_decorr.pkl\", 'rb') as f:\n",
    "    imp_order_decorr = pickle.load(f)"
   ]
  },
  {
   "cell_type": "code",
   "execution_count": null,
   "metadata": {},
   "outputs": [],
   "source": [
    "optimizer = optim.SGD(net_decorr.parameters(), lr=0, weight_decay=0)\n",
    "imp_order_decorr = np.array([[],[],[]]).transpose()\n",
    "i = 0\n",
    "\n",
    "for l_index in net_corr.module.modules():\n",
    "    if(isinstance(l_index, nn.BatchNorm2d)):\n",
    "        print(l_index)\n",
    "        nlist = cal_importance(net_decorr, l_index, num_stop)\n",
    "        imp_order_decorr = np.concatenate((imp_order_decorr,np.array([np.repeat([i],nlist[1].shape[0]).tolist(), nlist[0].tolist(), nlist[1].detach().cpu().numpy().tolist()]).transpose()), 0)\n",
    "        i+=1\n",
    "    \n",
    "with open(\"./w_decorr/base_params/tfo_w_decorr.pkl\", 'wb') as f:\n",
    "    pickle.dump(imp_order_decorr, f)"
   ]
  },
  {
   "cell_type": "markdown",
   "metadata": {},
   "source": [
    "### Order and ratios for pruning"
   ]
  },
  {
   "cell_type": "code",
   "execution_count": null,
   "metadata": {},
   "outputs": [],
   "source": [
    "def order_and_ratios(imp_order, prune_ratio):\n",
    "    imp_sort = np.argsort(imp_order[:,2])\n",
    "    temp_order = imp_order[imp_sort]\n",
    "\n",
    "    n_prune = int(prune_ratio * imp_order.shape[0])\n",
    "\n",
    "    prune_list = temp_order[0:n_prune]\n",
    "\n",
    "    imp_order_tfo = {}\n",
    "    ratios = []\n",
    "\n",
    "    for l_index in range(len(orig_size)):\n",
    "        nlist = temp_order[(temp_order[:,0] == l_index), 1].astype(int)\n",
    "        imp_order_tfo.update({l_index: nlist})\n",
    "        nlist = np.sort(prune_list[(prune_list[:,0] == l_index), 1].astype(int))\n",
    "        ratios.append(nlist.shape[0])\n",
    "    return imp_order_tfo, ratios"
   ]
  },
  {
   "cell_type": "code",
   "execution_count": null,
   "metadata": {},
   "outputs": [],
   "source": [
    "def cal_size(net_size):\n",
    "    orig_size = []\n",
    "    for l_index in net_size.module.modules():\n",
    "        if(isinstance(l_index, nn.BatchNorm2d)):\n",
    "            orig_size.append(l_index.bias.shape[0])\n",
    "    orig_size = np.array(orig_size)\n",
    "    return orig_size"
   ]
  },
  {
   "cell_type": "code",
   "execution_count": null,
   "metadata": {},
   "outputs": [],
   "source": [
    "orig_size = cal_size(net_corr)"
   ]
  },
  {
   "cell_type": "markdown",
   "metadata": {},
   "source": [
    "### Pruned Architecture"
   ]
  },
  {
   "cell_type": "code",
   "execution_count": null,
   "metadata": {},
   "outputs": [],
   "source": [
    "class BasicBlock_p(nn.Module):\n",
    "    expansion = 1\n",
    "\n",
    "    def __init__(self, lnum, in_planes, mid_planes, out_planes, stride=1):\n",
    "        super(BasicBlock_p, self).__init__()\n",
    "\n",
    "        if stride != 1:\n",
    "            self.conv1 = nn.Conv2d(in_planes, mid_planes, kernel_size=3, stride=stride, padding=1, bias=False)\n",
    "            self.bn1 = nn.BatchNorm2d(mid_planes)\n",
    "            self.conv2 = nn.Conv2d(mid_planes, out_planes, kernel_size=3, stride=1, padding=1, bias=False)\n",
    "            self.bn2 = nn.BatchNorm2d(out_planes)\n",
    "            self.shortcut = nn.Sequential(\n",
    "                nn.Conv2d(in_planes, self.expansion*out_planes, kernel_size=1, stride=stride, bias=False),\n",
    "                nn.BatchNorm2d(self.expansion*out_planes)\n",
    "            )\n",
    "\n",
    "        else:\n",
    "            self.conv1 = nn.Conv2d(in_planes, mid_planes, kernel_size=3, stride=stride, padding=1, bias=False)\n",
    "            self.bn1 = nn.BatchNorm2d(mid_planes)\n",
    "            self.conv2 = nn.Conv2d(mid_planes, out_planes, kernel_size=3, stride=1, padding=1, bias=False)\n",
    "            self.bn2 = nn.BatchNorm2d(out_planes)\n",
    "            self.shortcut = nn.Sequential()\n",
    "\n",
    "\n",
    "    def forward(self, x):\n",
    "        out = F.relu(self.bn1(self.conv1(x)))\n",
    "        out = self.bn2(self.conv2(out))\n",
    "        out += self.shortcut(x)\n",
    "        out = F.relu(out)\n",
    "        return out"
   ]
  },
  {
   "cell_type": "code",
   "execution_count": null,
   "metadata": {},
   "outputs": [],
   "source": [
    "class ResNet34_p(nn.Module):\n",
    "    def __init__(self, cfg, num_blocks, num_classes=100):\n",
    "        super(ResNet34_p, self).__init__()\n",
    "        self.in_planes = cfg['base']\n",
    "\n",
    "        self.conv1 = nn.Conv2d(3, cfg['base'], kernel_size=3, stride=1, padding=1, bias=False)\n",
    "        self.bn1 = nn.BatchNorm2d(cfg['base'])\n",
    "        self.layer1 = self._make_layer(BasicBlock_p, cfg['l1'], num_blocks[0], stride=1)\n",
    "        self.layer2 = self._make_layer(BasicBlock_p, cfg['l2'], num_blocks[1], stride=2)\n",
    "        self.layer3 = self._make_layer(BasicBlock_p, cfg['l3'], num_blocks[2], stride=2)\n",
    "        self.layer4 = self._make_layer(BasicBlock_p, cfg['l4'], num_blocks[3], stride=2)\n",
    "        self.linear = nn.Linear(cfg['l4'][-1] * BasicBlock_p.expansion, num_classes)\n",
    "\n",
    "    def _make_layer(self, block, l_cfg, num_blocks, stride):\n",
    "        strides = [stride] + [1]*(num_blocks-1)\n",
    "        layers = []\n",
    "        for lnum, stride in enumerate(strides):\n",
    "            layers.append(block(lnum, self.in_planes, l_cfg[2*lnum], l_cfg[2*lnum+1], stride))\n",
    "            self.in_planes = l_cfg[2*lnum+1]\n",
    "        return nn.Sequential(*layers)\n",
    "\n",
    "    def forward(self, x):\n",
    "        out = F.relu(self.bn1(self.conv1(x)))\n",
    "        out = self.layer1(out)\n",
    "        out = self.layer2(out)\n",
    "        out = self.layer3(out)\n",
    "        out = self.layer4(out)\n",
    "        out = F.avg_pool2d(out, 4)\n",
    "        out = out.view(out.size(0), -1)\n",
    "        out = self.linear(out)\n",
    "        return out"
   ]
  },
  {
   "cell_type": "code",
   "execution_count": null,
   "metadata": {},
   "outputs": [],
   "source": [
    "def ResPruned(layer_cfgs):\n",
    "    return ResNet34_p(layer_cfgs, num_blocks=[3,4,6,3])"
   ]
  },
  {
   "cell_type": "markdown",
   "metadata": {},
   "source": [
    "### Pruning"
   ]
  },
  {
   "cell_type": "code",
   "execution_count": null,
   "metadata": {},
   "outputs": [],
   "source": [
    "def cfg_p(prune_ratio, orig_size, net_type=0):\n",
    "    \n",
    "    num_blocks=[3,4,6,3]\n",
    "    cfg_list = {}\n",
    "    cfg_list.update({'base': orig_size[0] - prune_ratio[0]})\n",
    "    b_id = 0\n",
    "    \n",
    "    ### First layer has only identity shortcuts ###\n",
    "    l_list = []\n",
    "    l_id = 1\n",
    "    for b_id in range(1,2*num_blocks[0]+1):\n",
    "        if(b_id % 2 == 1):\n",
    "            l_list.append(orig_size[b_id] - prune_ratio[b_id])\n",
    "        else:\n",
    "            l_list.append(orig_size[b_id])\n",
    "    cfg_list.update({'l'+str(l_id): l_list.copy()})\n",
    "    \n",
    "    for l_id in range(2,len(num_blocks)+1):\n",
    "        ### First block has a learned shortcut ###\n",
    "        l_list = []\n",
    "        b_id += 1\n",
    "        l_list.append(orig_size[b_id] - prune_ratio[b_id])\n",
    "        b_id += 1\n",
    "        l_list.append(orig_size[b_id])\n",
    "        b_id += 1\n",
    "        \n",
    "        ### Rest blocks have identity shortcuts ###\n",
    "        for block_id in range(num_blocks[l_id-1]-1):\n",
    "            b_id += 1\n",
    "            l_list.append(orig_size[b_id] - prune_ratio[b_id])\n",
    "            b_id += 1\n",
    "            l_list.append(orig_size[b_id])\n",
    "            \n",
    "        cfg_list.update({'l'+str(l_id): l_list.copy()})\n",
    "\n",
    "    if(net_type == 1):\n",
    "        with open(\"./w_decorr/pruned_nets/corr/cfgs/net_p_corr_iter\"+str(prune_iter)+\".pkl\", 'wb') as f:\n",
    "            pickle.dump(cfg_list, f)\n",
    "\n",
    "    elif(net_type == 2):\n",
    "        with open(\"./w_decorr/pruned_nets/decorr/cfgs/net_p_decorr_iter\"+str(prune_iter)+\".pkl\", 'wb') as f:\n",
    "            pickle.dump(cfg_list, f)\n",
    "\n",
    "    return cfg_list"
   ]
  },
  {
   "cell_type": "code",
   "execution_count": null,
   "metadata": {},
   "outputs": [],
   "source": [
    "def pruner(net, imp_order, prune_ratio, orig_size, net_type=0):\n",
    "    \n",
    "    cfg = cfg_p(prune_ratio, orig_size, net_type=net_type)\n",
    "    print(cfg)\n",
    "    net_pruned = torch.nn.DataParallel(ResPruned(cfg))\n",
    "\n",
    "    block_id = 0\n",
    "\n",
    "    # base\n",
    "    n_c = orig_size[block_id] - cfg['base']\n",
    "    order_c = np.sort(imp_order[block_id][n_c:])\n",
    "    net_pruned.module.conv1.weight.data = net.module.conv1.weight[order_c].data.detach().clone()\n",
    "    \n",
    "    net_pruned.module.bn1.weight.data = net.module.bn1.weight[order_c].data.detach().clone()\n",
    "    net_pruned.module.bn1.bias.data = net.module.bn1.bias[order_c].data.detach().clone()\n",
    "    net_pruned.module.bn1.running_var.data = net.module.bn1.running_var[order_c].data.detach().clone()\n",
    "    net_pruned.module.bn1.running_mean.data = net.module.bn1.running_mean[order_c].data.detach().clone()\n",
    "    order_p = order_c.copy()\n",
    "    block_id += 1\n",
    "\n",
    "    ### l1\n",
    "    for block_num in range(int(len(cfg['l1']) / 2)):\n",
    "        n_c = orig_size[block_id] - cfg['l1'][2*block_num]\n",
    "        order_c = np.sort(imp_order[block_id][n_c:])\n",
    "        net_pruned.module.layer1[block_num].conv1.weight.data = net.module.layer1[block_num].conv1.weight[order_c][:,order_p].data.detach().clone()\n",
    "\n",
    "        net_pruned.module.layer1[block_num].bn1.weight.data = net.module.layer1[block_num].bn1.weight[order_c].data.detach().clone()\n",
    "        net_pruned.module.layer1[block_num].bn1.bias.data = net.module.layer1[block_num].bn1.bias[order_c].data.detach().clone()\n",
    "        net_pruned.module.layer1[block_num].bn1.running_var.data = net.module.layer1[block_num].bn1.running_var[order_c].data.detach().clone()\n",
    "        net_pruned.module.layer1[block_num].bn1.running_mean.data = net.module.layer1[block_num].bn1.running_mean[order_c].data.detach().clone()\n",
    "        order_p = order_c.copy()\n",
    "        block_id += 1\n",
    "\n",
    "        n_c = orig_size[block_id] - cfg['l1'][2*block_num+1]\n",
    "        order_c = np.sort(imp_order[block_id][n_c:])\n",
    "\n",
    "        net_pruned.module.layer1[block_num].conv2.weight.data = net.module.layer1[block_num].conv2.weight[order_c][:,order_p].data.detach().clone()\n",
    "        \n",
    "        net_pruned.module.layer1[block_num].bn2.weight.data = net.module.layer1[block_num].bn2.weight[order_c].data.detach().clone()\n",
    "        net_pruned.module.layer1[block_num].bn2.bias.data = net.module.layer1[block_num].bn2.bias[order_c].data.detach().clone()\n",
    "        net_pruned.module.layer1[block_num].bn2.running_var.data = net.module.layer1[block_num].bn2.running_var[order_c].data.detach().clone()\n",
    "        net_pruned.module.layer1[block_num].bn2.running_mean.data = net.module.layer1[block_num].bn2.running_mean[order_c].data.detach().clone()\n",
    "        order_p = order_c.copy()\n",
    "        block_id += 1\n",
    "\n",
    "    ### l2\n",
    "    for block_num in range(int(len(cfg['l2']) / 2)):\n",
    "        n_c = orig_size[block_id] - cfg['l2'][2*block_num]\n",
    "        order_c = np.sort(imp_order[block_id][n_c:])\n",
    "        ### Conv\n",
    "        net_pruned.module.layer2[block_num].conv1.weight.data = net.module.layer2[block_num].conv1.weight[order_c][:,order_p].data.detach().clone()\n",
    "        ### BN\n",
    "        net_pruned.module.layer2[block_num].bn1.weight.data = net.module.layer2[block_num].bn1.weight[order_c].data.detach().clone()\n",
    "        net_pruned.module.layer2[block_num].bn1.bias.data = net.module.layer2[block_num].bn1.bias[order_c].data.detach().clone()\n",
    "        net_pruned.module.layer2[block_num].bn1.running_var.data = net.module.layer2[block_num].bn1.running_var[order_c].data.detach().clone()\n",
    "        net_pruned.module.layer2[block_num].bn1.running_mean.data = net.module.layer2[block_num].bn1.running_mean[order_c].data.detach().clone()\n",
    "        order_p0 = order_p.copy()\n",
    "        order_p = order_c.copy()\n",
    "        block_id += 1\n",
    "\n",
    "        n_c = orig_size[block_id] - cfg['l2'][2*block_num+1]\n",
    "        order_c = np.sort(imp_order[block_id][n_c:])\n",
    "        ### Conv\n",
    "        net_pruned.module.layer2[block_num].conv2.weight.data = net.module.layer2[block_num].conv2.weight[order_c][:,order_p].data.detach().clone()\n",
    "        ### BN        \n",
    "        net_pruned.module.layer2[block_num].bn2.weight.data = net.module.layer2[block_num].bn2.weight[order_c].data.detach().clone()\n",
    "        net_pruned.module.layer2[block_num].bn2.bias.data = net.module.layer2[block_num].bn2.bias[order_c].data.detach().clone()\n",
    "        net_pruned.module.layer2[block_num].bn2.running_var.data = net.module.layer2[block_num].bn2.running_var[order_c].data.detach().clone()\n",
    "        net_pruned.module.layer2[block_num].bn2.running_mean.data = net.module.layer2[block_num].bn2.running_mean[order_c].data.detach().clone()\n",
    "        order_p = order_c.copy()\n",
    "        block_id += 1\n",
    "\n",
    "        ### Shortcut\n",
    "        if(block_num == 0):\n",
    "            n_c = orig_size[block_id] - cfg['l2'][2*block_num+1]\n",
    "            order_c = np.sort(imp_order[block_id][n_c:])\n",
    "            ### Conv\n",
    "            net_pruned.module.layer2[block_num].shortcut[0].weight.data = net.module.layer2[block_num].shortcut[0].weight[order_c][:,order_p0].data.detach().clone()\n",
    "            ### BN        \n",
    "            net_pruned.module.layer2[block_num].shortcut[1].weight.data = net.module.layer2[block_num].shortcut[1].weight[order_c].data.detach().clone()\n",
    "            net_pruned.module.layer2[block_num].shortcut[1].bias.data = net.module.layer2[block_num].shortcut[1].bias[order_c].data.detach().clone()\n",
    "            net_pruned.module.layer2[block_num].shortcut[1].running_var.data = net.module.layer2[block_num].shortcut[1].running_var[order_c].data.detach().clone()\n",
    "            net_pruned.module.layer2[block_num].shortcut[1].running_mean.data = net.module.layer2[block_num].shortcut[1].running_mean[order_c].data.detach().clone()\n",
    "            block_id += 1\n",
    "\n",
    "    ### l3\n",
    "    for block_num in range(int(len(cfg['l3']) / 2)):\n",
    "        n_c = orig_size[block_id] - cfg['l3'][2*block_num]\n",
    "        order_c = np.sort(imp_order[block_id][n_c:])\n",
    "        ### Conv\n",
    "        net_pruned.module.layer3[block_num].conv1.weight.data = net.module.layer3[block_num].conv1.weight[order_c][:,order_p].data.detach().clone()\n",
    "        ### BN\n",
    "        net_pruned.module.layer3[block_num].bn1.weight.data = net.module.layer3[block_num].bn1.weight[order_c].data.detach().clone()\n",
    "        net_pruned.module.layer3[block_num].bn1.bias.data = net.module.layer3[block_num].bn1.bias[order_c].data.detach().clone()\n",
    "        net_pruned.module.layer3[block_num].bn1.running_var.data = net.module.layer3[block_num].bn1.running_var[order_c].data.detach().clone()\n",
    "        net_pruned.module.layer3[block_num].bn1.running_mean.data = net.module.layer3[block_num].bn1.running_mean[order_c].data.detach().clone()\n",
    "        order_p0 = order_p.copy()\n",
    "        order_p = order_c.copy()\n",
    "        block_id += 1\n",
    "\n",
    "        n_c = orig_size[block_id] - cfg['l3'][2*block_num+1]\n",
    "        order_c = np.sort(imp_order[block_id][n_c:])\n",
    "        ### Conv\n",
    "        net_pruned.module.layer3[block_num].conv2.weight.data = net.module.layer3[block_num].conv2.weight[order_c][:,order_p].data.detach().clone()\n",
    "        ### BN        \n",
    "        net_pruned.module.layer3[block_num].bn2.weight.data = net.module.layer3[block_num].bn2.weight[order_c].data.detach().clone()\n",
    "        net_pruned.module.layer3[block_num].bn2.bias.data = net.module.layer3[block_num].bn2.bias[order_c].data.detach().clone()\n",
    "        net_pruned.module.layer3[block_num].bn2.running_var.data = net.module.layer3[block_num].bn2.running_var[order_c].data.detach().clone()\n",
    "        net_pruned.module.layer3[block_num].bn2.running_mean.data = net.module.layer3[block_num].bn2.running_mean[order_c].data.detach().clone()\n",
    "        order_p = order_c.copy()\n",
    "        block_id += 1\n",
    "\n",
    "        ### Shortcut\n",
    "        if(block_num == 0):\n",
    "            n_c = orig_size[block_id] - cfg['l3'][2*block_num+1]\n",
    "            order_c = np.sort(imp_order[block_id][n_c:])\n",
    "            ### Conv\n",
    "            net_pruned.module.layer3[block_num].shortcut[0].weight.data = net.module.layer3[block_num].shortcut[0].weight[order_c][:,order_p0].data.detach().clone()\n",
    "            ### BN        \n",
    "            net_pruned.module.layer3[block_num].shortcut[1].weight.data = net.module.layer3[block_num].shortcut[1].weight[order_c].data.detach().clone()\n",
    "            net_pruned.module.layer3[block_num].shortcut[1].bias.data = net.module.layer3[block_num].shortcut[1].bias[order_c].data.detach().clone()\n",
    "            net_pruned.module.layer3[block_num].shortcut[1].running_var.data = net.module.layer3[block_num].shortcut[1].running_var[order_c].data.detach().clone()\n",
    "            net_pruned.module.layer3[block_num].shortcut[1].running_mean.data = net.module.layer3[block_num].shortcut[1].running_mean[order_c].data.detach().clone()\n",
    "            block_id += 1\n",
    "\n",
    "    ### l4\n",
    "    for block_num in range(int(len(cfg['l4']) / 2)):\n",
    "        n_c = orig_size[block_id] - cfg['l4'][2*block_num]\n",
    "        order_c = np.sort(imp_order[block_id][n_c:])\n",
    "        ### Conv\n",
    "        net_pruned.module.layer4[block_num].conv1.weight.data = net.module.layer4[block_num].conv1.weight[order_c][:,order_p].data.detach().clone()\n",
    "        ### BN\n",
    "        net_pruned.module.layer4[block_num].bn1.weight.data = net.module.layer4[block_num].bn1.weight[order_c].data.detach().clone()\n",
    "        net_pruned.module.layer4[block_num].bn1.bias.data = net.module.layer4[block_num].bn1.bias[order_c].data.detach().clone()\n",
    "        net_pruned.module.layer4[block_num].bn1.running_var.data = net.module.layer4[block_num].bn1.running_var[order_c].data.detach().clone()\n",
    "        net_pruned.module.layer4[block_num].bn1.running_mean.data = net.module.layer4[block_num].bn1.running_mean[order_c].data.detach().clone()\n",
    "        order_p0 = order_p.copy()\n",
    "        order_p = order_c.copy()\n",
    "        block_id += 1\n",
    "\n",
    "        n_c = orig_size[block_id] - cfg['l4'][2*block_num+1]\n",
    "        order_c = np.sort(imp_order[block_id][n_c:])\n",
    "        ### Conv\n",
    "        net_pruned.module.layer4[block_num].conv2.weight.data = net.module.layer4[block_num].conv2.weight[order_c][:,order_p].data.detach().clone()\n",
    "        ### BN        \n",
    "        net_pruned.module.layer4[block_num].bn2.weight.data = net.module.layer4[block_num].bn2.weight[order_c].data.detach().clone()\n",
    "        net_pruned.module.layer4[block_num].bn2.bias.data = net.module.layer4[block_num].bn2.bias[order_c].data.detach().clone()\n",
    "        net_pruned.module.layer4[block_num].bn2.running_var.data = net.module.layer4[block_num].bn2.running_var[order_c].data.detach().clone()\n",
    "        net_pruned.module.layer4[block_num].bn2.running_mean.data = net.module.layer4[block_num].bn2.running_mean[order_c].data.detach().clone()\n",
    "        order_p = order_c.copy()\n",
    "        block_id += 1\n",
    "\n",
    "        ### Shortcut\n",
    "        if(block_num == 0):\n",
    "            n_c = orig_size[block_id] - cfg['l4'][2*block_num+1]\n",
    "            order_c = np.sort(imp_order[block_id][n_c:])\n",
    "            ### Conv\n",
    "            net_pruned.module.layer4[block_num].shortcut[0].weight.data = net.module.layer4[block_num].shortcut[0].weight[order_c][:,order_p0].data.detach().clone()\n",
    "            ### BN        \n",
    "            net_pruned.module.layer4[block_num].shortcut[1].weight.data = net.module.layer4[block_num].shortcut[1].weight[order_c].data.detach().clone()\n",
    "            net_pruned.module.layer4[block_num].shortcut[1].bias.data = net.module.layer4[block_num].shortcut[1].bias[order_c].data.detach().clone()\n",
    "            net_pruned.module.layer4[block_num].shortcut[1].running_var.data = net.module.layer4[block_num].shortcut[1].running_var[order_c].data.detach().clone()\n",
    "            net_pruned.module.layer4[block_num].shortcut[1].running_mean.data = net.module.layer4[block_num].shortcut[1].running_mean[order_c].data.detach().clone()\n",
    "            block_id += 1\n",
    "\n",
    "    ### Linear block\n",
    "    net_pruned.module.linear.weight.data = net.module.linear.weight.data.detach().clone()\n",
    "    net_pruned.module.linear.bias.data = net.module.linear.bias.data.detach().clone()\n",
    "    \n",
    "    return net_pruned"
   ]
  },
  {
   "cell_type": "markdown",
   "metadata": {},
   "source": [
    "## Retraining"
   ]
  },
  {
   "cell_type": "code",
   "execution_count": null,
   "metadata": {},
   "outputs": [],
   "source": [
    "prune_iter = 1"
   ]
  },
  {
   "cell_type": "markdown",
   "metadata": {},
   "source": [
    "### Correlated network pruning"
   ]
  },
  {
   "cell_type": "code",
   "execution_count": null,
   "metadata": {},
   "outputs": [],
   "source": [
    "orig_size = cal_size(net_corr)"
   ]
  },
  {
   "cell_type": "code",
   "execution_count": null,
   "metadata": {},
   "outputs": [],
   "source": [
    "order_corr, prune_ratio = order_and_ratios(imp_order_corr, 0.3)\n",
    "np.array(prune_ratio), orig_size"
   ]
  },
  {
   "cell_type": "code",
   "execution_count": null,
   "metadata": {},
   "outputs": [],
   "source": [
    "net_dict = torch.load(PATH_corr)\n",
    "net_corr.load_state_dict(net_dict['net'])\n",
    "net_p = pruner(net_corr, order_corr, prune_ratio, orig_size, net_type=1)"
   ]
  },
  {
   "cell_type": "markdown",
   "metadata": {},
   "source": [
    "### Accs"
   ]
  },
  {
   "cell_type": "code",
   "execution_count": null,
   "metadata": {},
   "outputs": [],
   "source": [
    "cal_acc(net_corr), cal_acc(net_p)"
   ]
  },
  {
   "cell_type": "code",
   "execution_count": null,
   "metadata": {},
   "outputs": [],
   "source": [
    "t_corr = cal_time(net_corr)\n",
    "t_p = cal_time(net_p)"
   ]
  },
  {
   "cell_type": "code",
   "execution_count": null,
   "metadata": {},
   "outputs": [],
   "source": [
    "100*(1 - (t_p / t_corr))"
   ]
  },
  {
   "cell_type": "markdown",
   "metadata": {},
   "source": [
    "#### Retraining"
   ]
  },
  {
   "cell_type": "code",
   "execution_count": null,
   "metadata": {},
   "outputs": [],
   "source": [
    "# Training\n",
    "def net_p_train(epoch):\n",
    "    print('\\nEpoch: %d' % epoch)\n",
    "    net_p.train()\n",
    "    train_loss = 0\n",
    "    correct = 0\n",
    "    total = 0\n",
    "    for batch_idx, (inputs, targets) in enumerate(trainloader):\n",
    "        inputs, targets = inputs.to(device), targets.to(device)\n",
    "        optimizer.zero_grad()\n",
    "        outputs = net_p(inputs)\n",
    "        loss = criterion(outputs, targets)\n",
    "        loss.backward()\n",
    "        optimizer.step()\n",
    "\n",
    "        train_loss += loss.item()\n",
    "        _, predicted = outputs.max(1)\n",
    "        total += targets.size(0)\n",
    "        correct += predicted.eq(targets).sum().item()\n",
    "\n",
    "        progress_bar(batch_idx, len(trainloader), 'Loss: %.3f | Acc: %.3f%% (%d/%d)'\n",
    "            % (train_loss/(batch_idx+1), 100.*correct/total, correct, total))\n",
    "        \n",
    "def net_p_test(epoch):\n",
    "    global best_p_acc\n",
    "    global prune_iter\n",
    "    net_p.eval()\n",
    "    test_loss = 0\n",
    "    correct = 0\n",
    "    total = 0\n",
    "    with torch.no_grad():\n",
    "        for batch_idx, (inputs, targets) in enumerate(testloader):\n",
    "            inputs, targets = inputs.to(device), targets.to(device)\n",
    "            outputs = net_p(inputs)\n",
    "            loss = criterion(outputs, targets)\n",
    "\n",
    "            test_loss += loss.item()\n",
    "            _, predicted = outputs.max(1)\n",
    "            total += targets.size(0)\n",
    "            correct += predicted.eq(targets).sum().item()\n",
    "\n",
    "            progress_bar(batch_idx, len(testloader), 'Loss: %.3f | Acc: %.3f%% (%d/%d)'\n",
    "                % (test_loss/(batch_idx+1), 100.*correct/total, correct, total))\n",
    "\n",
    "    # Save checkpoint.\n",
    "    acc = 100.*correct/total\n",
    "    if acc > best_p_acc:\n",
    "        print('Saving..')\n",
    "        state = {\n",
    "            'net_p': net_p.state_dict(),\n",
    "            'best_p_acc': acc\n",
    "        }\n",
    "        if not os.path.isdir('net_p_checkpoint'):\n",
    "            os.mkdir('net_p_checkpoint')\n",
    "        torch.save(state, './net_p_checkpoint/ckpt'+str(prune_iter)+'.pth')\n",
    "        best_p_acc = acc"
   ]
  },
  {
   "cell_type": "code",
   "execution_count": null,
   "metadata": {},
   "outputs": [],
   "source": [
    "import torch.optim as optim\n",
    "\n",
    "criterion = nn.CrossEntropyLoss()\n",
    "optimizer = optim.Adam(net_p.parameters(), lr=0.000001, betas=(0.9, 0.999), eps=1e-08, weight_decay=5e-4, amsgrad=False)"
   ]
  },
  {
   "cell_type": "code",
   "execution_count": null,
   "metadata": {},
   "outputs": [],
   "source": [
    "best_p_acc = 0"
   ]
  },
  {
   "cell_type": "code",
   "execution_count": null,
   "metadata": {},
   "outputs": [],
   "source": [
    "for epoch in range(1):\n",
    "    net_p_train(epoch)\n",
    "    net_p_test(epoch)"
   ]
  },
  {
   "cell_type": "markdown",
   "metadata": {},
   "source": [
    "#### Save correlated pruned network"
   ]
  },
  {
   "cell_type": "code",
   "execution_count": null,
   "metadata": {},
   "outputs": [],
   "source": [
    "prune_iter"
   ]
  },
  {
   "cell_type": "code",
   "execution_count": null,
   "metadata": {},
   "outputs": [],
   "source": [
    "net_dict = torch.load('./net_p_checkpoint/ckpt1.pth')\n",
    "net_p.load_state_dict(net_dict['net_p'])\n",
    "best_p_acc = net_dict['best_p_acc']"
   ]
  },
  {
   "cell_type": "markdown",
   "metadata": {},
   "source": [
    "### Decorrelated network pruning"
   ]
  },
  {
   "cell_type": "code",
   "execution_count": null,
   "metadata": {},
   "outputs": [],
   "source": [
    "orig_size = cal_size(net_decorr)"
   ]
  },
  {
   "cell_type": "markdown",
   "metadata": {},
   "source": [
    "#### Pruning order"
   ]
  },
  {
   "cell_type": "code",
   "execution_count": null,
   "metadata": {},
   "outputs": [],
   "source": [
    "order_decorr, prune_ratio = order_and_ratios(imp_order_decorr, 0.1)\n",
    "np.array(prune_ratio), orig_size"
   ]
  },
  {
   "cell_type": "markdown",
   "metadata": {},
   "source": [
    "#### Define pruned network"
   ]
  },
  {
   "cell_type": "code",
   "execution_count": null,
   "metadata": {
    "scrolled": true
   },
   "outputs": [],
   "source": [
    "net_dict = torch.load(PATH_decorr)\n",
    "net_decorr.load_state_dict(net_dict['net_ortho'])\n",
    "net_p_ortho = pruner(net_decorr, order_decorr, prune_ratio, orig_size, net_type=2)"
   ]
  },
  {
   "cell_type": "code",
   "execution_count": null,
   "metadata": {},
   "outputs": [],
   "source": [
    "cal_acc(net_p_ortho.eval()), cal_acc(net_decorr.eval())"
   ]
  },
  {
   "cell_type": "code",
   "execution_count": null,
   "metadata": {
    "scrolled": true
   },
   "outputs": [],
   "source": [
    "t_decorr = cal_time(net_decorr)\n",
    "t_p_ortho = cal_time(net_p_ortho)"
   ]
  },
  {
   "cell_type": "code",
   "execution_count": null,
   "metadata": {},
   "outputs": [],
   "source": [
    "100*(1 - (t_p_ortho / t_corr))"
   ]
  },
  {
   "cell_type": "markdown",
   "metadata": {},
   "source": [
    "#### Retraining"
   ]
  },
  {
   "cell_type": "code",
   "execution_count": null,
   "metadata": {},
   "outputs": [],
   "source": [
    "num_blocks = [3,4,6,3]"
   ]
  },
  {
   "cell_type": "code",
   "execution_count": null,
   "metadata": {},
   "outputs": [],
   "source": [
    "l_imp = {-1:{'conv1':net_ortho.module.bn1.bias.shape[0]}, 0:{}, 1:{}, 2:{}, 3:{}}\n",
    "\n",
    "mod_id = 0\n",
    "for module_id in [net_ortho.module.layer1, net_ortho.module.layer2, net_ortho.module.layer3, net_ortho.module.layer4]:\n",
    "    for b_id in range(num_blocks[mod_id]):\n",
    "        l_imp[mod_id].update({2*b_id: module_id[b_id].bn1.bias.shape[0]})\n",
    "        l_imp[mod_id].update({2*b_id+1: module_id[b_id].bn2.bias.shape[0]})\n",
    "    mod_id += 1\n",
    "    \n",
    "normalizer = 0\n",
    "for key, val in l_imp.items():\n",
    "    for key1, val1 in val.items():\n",
    "        normalizer += val1\n",
    "for key, val in l_imp.items():\n",
    "    for key1, val1 in val.items():\n",
    "        l_imp[key][key1] /= normalizer"
   ]
  },
  {
   "cell_type": "code",
   "execution_count": null,
   "metadata": {},
   "outputs": [],
   "source": [
    "# Training\n",
    "def net_p_train_ortho(epoch):\n",
    "    print('\\nEpoch: %d' % epoch)\n",
    "    net_p_ortho.train()\n",
    "    running_loss = 0\n",
    "    correct = 0\n",
    "    total = 0\n",
    "    angle_cost = 0.0\n",
    "\n",
    "    for batch_idx, (inputs, targets) in enumerate(trainloader):\n",
    "        inputs, labels = inputs.to(device), targets.to(device)\n",
    "        optimizer.zero_grad()\n",
    "        outputs = net_p_ortho(inputs)\n",
    "\n",
    "        L_angle = 0\n",
    "\n",
    "        ### Conv_ind == 0 ###\n",
    "        w_mat = net_p_ortho.module.conv1.weight\n",
    "        params = (w_mat.reshape(w_mat.shape[0],-1))\n",
    "        angle_mat = torch.matmul(torch.t(params), params) - torch.eye(params.shape[1]).to(device)\n",
    "        L_angle += l_imp[-1]['conv1']*(angle_mat).norm(1) #.norm().pow(2))\n",
    "        \n",
    "        ### Conv_ind != 0 ###\n",
    "        mod_id = 0\n",
    "        for module_id in [net_p_ortho.module.layer1, net_p_ortho.module.layer2, net_p_ortho.module.layer3, net_p_ortho.module.layer4]:\n",
    "            for b_id in range(num_blocks[mod_id]):\n",
    "                w_mat = module_id[b_id].conv1.weight\n",
    "                params = (w_mat.reshape(w_mat.shape[0],-1))\n",
    "                angle_mat = torch.matmul(params, torch.t(params)) - torch.eye(params.shape[0]).to(device)\n",
    "                L_angle += l_imp[mod_id][2*b_id]*(angle_mat).norm(1)\n",
    "\n",
    "                w_mat = module_id[b_id].conv2.weight\n",
    "                params = (w_mat.reshape(w_mat.shape[0],-1))\n",
    "                angle_mat = torch.matmul(params, torch.t(params)) - torch.eye(params.shape[0]).to(device)\n",
    "                L_angle += l_imp[mod_id][2*b_id+1]*(angle_mat).norm(1)\n",
    "\n",
    "                try:\n",
    "                    w_mat = module_id[b_id].shortcut[0]\n",
    "                    params = (w_mat.reshape(w_mat.shape[0],-1))\n",
    "                    angle_mat = torch.matmul(params, torch.t(params)) - torch.eye(params.shape[1]).to(device)\n",
    "                    L_angle += l_imp[mod_id][2*b_id]*(angle_mat).norm(1)\n",
    "                except:\n",
    "                    pass\n",
    "            mod_id += 1\n",
    "                \n",
    "        Lc = criterion(outputs, labels)\n",
    "        loss = (1e-2)*(L_angle) + Lc\n",
    "\n",
    "        loss.backward()\n",
    "        optimizer.step()\n",
    "\n",
    "        running_loss += loss.item()\n",
    "        angle_cost += (L_angle).item()\n",
    "\n",
    "        _, predicted = outputs.max(1)\n",
    "        total += labels.size(0)\n",
    "        correct += predicted.eq(labels).sum().item()\n",
    "\n",
    "        progress_bar(batch_idx, len(trainloader), 'Loss: %.3f | Acc: %.3f%% (%d/%d)'\n",
    "            % (running_loss/(batch_idx+1), 100.*correct/total, correct, total))\n",
    "\n",
    "    print(\"angle_cost: \", angle_cost/batch_idx+1)"
   ]
  },
  {
   "cell_type": "code",
   "execution_count": null,
   "metadata": {},
   "outputs": [],
   "source": [
    "def net_p_test_ortho(epoch):\n",
    "    global best_p_ortho_acc\n",
    "    global prune_iter\n",
    "    net_p_ortho.eval()\n",
    "    test_loss = 0\n",
    "    correct = 0\n",
    "    total = 0\n",
    "    with torch.no_grad():\n",
    "        for batch_idx, (inputs, targets) in enumerate(testloader):\n",
    "            inputs, targets = inputs.to(device), targets.to(device)\n",
    "            outputs = net_p_ortho(inputs)\n",
    "            loss = criterion(outputs, targets)\n",
    "\n",
    "            test_loss += loss.item()\n",
    "            _, predicted = outputs.max(1)\n",
    "            total += targets.size(0)\n",
    "            correct += predicted.eq(targets).sum().item()\n",
    "\n",
    "            progress_bar(batch_idx, len(testloader), 'Loss: %.3f | Acc: %.3f%% (%d/%d)'\n",
    "                % (test_loss/(batch_idx+1), 100.*correct/total, correct, total))\n",
    "\n",
    "    # Save checkpoint.\n",
    "    acc = 100.*correct/total\n",
    "    print(acc)\n",
    "    if acc > best_p_ortho_acc:\n",
    "        print('Saving..')\n",
    "        state = {\n",
    "            'net_p_ortho': net_p_ortho.state_dict(),\n",
    "            'best_p_ortho_acc': acc\n",
    "        }\n",
    "        if not os.path.isdir('ortho_p_checkpoint'):\n",
    "            os.mkdir('ortho_p_checkpoint')\n",
    "        torch.save(state, './ortho_p_checkpoint/ortho_ckpt'+str(prune_iter)+'.pth')\n",
    "        best_p_ortho_acc = acc"
   ]
  },
  {
   "cell_type": "code",
   "execution_count": null,
   "metadata": {},
   "outputs": [],
   "source": [
    "import torch.optim as optim\n",
    "\n",
    "criterion = nn.CrossEntropyLoss()\n",
    "optimizer = optim.Adam(net_p_ortho.parameters(), lr=0.00001, betas=(0.9, 0.999), eps=1e-08, weight_decay=0, amsgrad=False)"
   ]
  },
  {
   "cell_type": "code",
   "execution_count": null,
   "metadata": {},
   "outputs": [],
   "source": [
    "# best_p_ortho_acc = 0"
   ]
  },
  {
   "cell_type": "code",
   "execution_count": null,
   "metadata": {},
   "outputs": [],
   "source": [
    "for epoch in range(1):\n",
    "    net_p_train_ortho(epoch)\n",
    "    net_p_test_ortho(epoch)\n",
    "    w_diag()"
   ]
  },
  {
   "cell_type": "markdown",
   "metadata": {},
   "source": [
    "#### Save decorrelated pruned network"
   ]
  },
  {
   "cell_type": "code",
   "execution_count": null,
   "metadata": {},
   "outputs": [],
   "source": [
    "prune_iter "
   ]
  },
  {
   "cell_type": "code",
   "execution_count": null,
   "metadata": {},
   "outputs": [],
   "source": [
    "net_dict = torch.load('./ortho_p_checkpoint/ortho_ckpt'+str(prune_iter)+'.pth')\n",
    "net_p_ortho.load_state_dict(net_dict['net_p_ortho'])"
   ]
  },
  {
   "cell_type": "markdown",
   "metadata": {},
   "source": [
    "#### Evaluate orthogonality of filters in pruned network"
   ]
  },
  {
   "cell_type": "code",
   "execution_count": null,
   "metadata": {},
   "outputs": [],
   "source": [
    "def w_diag():\n",
    "    \n",
    "    ### Conv_ind == 0 ###\n",
    "    w_mat = net_ortho.module.conv1.weight\n",
    "    params = (w_mat.reshape(w_mat.shape[0],-1))\n",
    "#     print(params.shape)\n",
    "    angle_mat = torch.matmul(torch.t(params), params) # - torch.eye(params.shape[1]).to(device)\n",
    "#     print(angle_mat.shape)\n",
    "    L_diag = (angle_mat.diag().norm(1))\n",
    "    L_angle = (angle_mat.norm(1))\n",
    "    print(L_diag.cpu()/L_angle.cpu())\n",
    "\n",
    "    ### Conv_ind != 0 ###\n",
    "    mod_id = 0\n",
    "    for module_id in [net_ortho.module.layer1, net_ortho.module.layer2, net_ortho.module.layer3, net_ortho.module.layer4]:\n",
    "        for b_id in range(num_blocks[mod_id]):\n",
    "            w_mat = module_id[b_id].conv1.weight\n",
    "            params = (w_mat.reshape(w_mat.shape[0],-1))\n",
    "#             print(params.shape)\n",
    "            angle_mat = torch.matmul(params, torch.t(params)) # - torch.eye(params.shape[0]).to(device)\n",
    "#             print(angle_mat.shape)\n",
    "            L_diag = (angle_mat.diag().norm(1))\n",
    "            L_angle = (angle_mat.norm(1))\n",
    "            print(L_diag.cpu()/L_angle.cpu())                \n",
    "\n",
    "            w_mat = module_id[b_id].conv2.weight\n",
    "            params = (w_mat.reshape(w_mat.shape[0],-1))\n",
    "#             print(params.shape)\n",
    "            angle_mat = torch.matmul(params, torch.t(params)) # - torch.eye(params.shape[0]).to(device)\n",
    "#             print(angle_mat.shape)\n",
    "            L_diag = (angle_mat.diag().norm(1))\n",
    "            L_angle = (angle_mat.norm(1))\n",
    "            print(L_diag.cpu()/L_angle.cpu())                \n",
    "\n",
    "            try:\n",
    "                w_mat = module_id[b_id].shortcut[0]\n",
    "                params = (w_mat.reshape(w_mat.shape[0],-1))\n",
    "                angle_mat = torch.matmul(params, torch.t(params)) # - torch.eye(params.shape[1]).to(device)\n",
    "                L_diag = (angle_mat.diag().norm(1))\n",
    "                L_angle = (angle_mat.norm(1))\n",
    "                print(L_diag.cpu()/L_angle.cpu())                \n",
    "            except:\n",
    "                pass\n",
    "        mod_id += 1"
   ]
  },
  {
   "cell_type": "markdown",
   "metadata": {},
   "source": [
    "### Subsequent pruning"
   ]
  },
  {
   "cell_type": "markdown",
   "metadata": {},
   "source": [
    "#### Importance"
   ]
  },
  {
   "cell_type": "code",
   "execution_count": null,
   "metadata": {},
   "outputs": [],
   "source": [
    "''' Correlated network '''\n",
    "# with open(\"./w_decorr/pruned_nets/corr/tfo_order/tfo_corr_p\"+str(prune_iter)+\".pkl\", 'rb') as f:\n",
    "#     imp_order_p = pickle.load(f)"
   ]
  },
  {
   "cell_type": "code",
   "execution_count": null,
   "metadata": {},
   "outputs": [],
   "source": [
    "optimizer = optim.SGD(net_p.parameters(), lr=0, weight_decay=0)\n",
    "imp_order_p = np.array([[],[],[]]).transpose()\n",
    "i = 0\n",
    "\n",
    "for l_index in net_p.module.modules():\n",
    "    if(isinstance(l_index, nn.BatchNorm2d)):\n",
    "        print(l_index)\n",
    "        nlist = cal_importance(net_p, l_index)\n",
    "        imp_order_corr = np.concatenate((imp_order_p,np.array([np.repeat([i],nlist[1].shape[0]).tolist(), nlist[0].tolist(), nlist[1].detach().cpu().numpy().tolist()]).transpose()), 0)\n",
    "        i+=1\n",
    "    \n",
    "with open(\"./w_decorr/pruned_nets/corr/tfo_order/tfo_corr_p\"+str(prune_iter)+\".pkl\", 'wb') as f:\n",
    "    pickle.dump(imp_order_p, f)"
   ]
  },
  {
   "cell_type": "code",
   "execution_count": null,
   "metadata": {},
   "outputs": [],
   "source": [
    "''' De-Correlated network '''\n",
    "with open(\"./w_decorr/pruned_nets/decorr/tfo_order/tfo_w_decorr_p\"+str(prune_iter)+\".pkl\", 'rb') as f:\n",
    "    imp_order_p_ortho = pickle.load(f)"
   ]
  },
  {
   "cell_type": "code",
   "execution_count": null,
   "metadata": {},
   "outputs": [],
   "source": [
    "optimizer = optim.SGD(net_p_ortho.parameters(), lr=0, weight_decay=0)\n",
    "imp_order_p_ortho = np.array([[],[],[]]).transpose()\n",
    "i = 0\n",
    "\n",
    "for l_index in net_p_ortho.module.modules():\n",
    "    if(isinstance(l_index, nn.BatchNorm2d)):\n",
    "        print(l_index)\n",
    "        nlist = cal_importance(net_p_ortho, l_index)\n",
    "        imp_order_corr = np.concatenate((imp_order_p_ortho,np.array([np.repeat([i],nlist[1].shape[0]).tolist(), nlist[0].tolist(), nlist[1].detach().cpu().numpy().tolist()]).transpose()), 0)\n",
    "        i+=1\n",
    "    \n",
    "with open(\"./w_decorr/pruned_nets/corr/tfo_order/tfo_corr_p_ortho\"+str(prune_iter)+\".pkl\", 'wb') as f:\n",
    "    pickle.dump(imp_order_p_ortho, f)"
   ]
  },
  {
   "cell_type": "markdown",
   "metadata": {},
   "source": [
    "#### Pruned network pruning"
   ]
  },
  {
   "cell_type": "code",
   "execution_count": null,
   "metadata": {},
   "outputs": [],
   "source": [
    "# ''' Correlated network '''\n",
    "# orig_size = cal_size(net_p)"
   ]
  },
  {
   "cell_type": "code",
   "execution_count": null,
   "metadata": {},
   "outputs": [],
   "source": [
    "''' De-Correlated network '''\n",
    "orig_size = cal_size(net_p_ortho)"
   ]
  },
  {
   "cell_type": "markdown",
   "metadata": {},
   "source": [
    "#### Pruning order"
   ]
  },
  {
   "cell_type": "code",
   "execution_count": null,
   "metadata": {},
   "outputs": [],
   "source": [
    "# ''' Correlated network '''\n",
    "# order_p, prune_ratio = order_and_ratios(imp_order_p, 0.1)\n",
    "# np.array(prune_ratio), orig_size"
   ]
  },
  {
   "cell_type": "code",
   "execution_count": null,
   "metadata": {},
   "outputs": [],
   "source": [
    "''' De-Correlated network '''\n",
    "order_p, prune_ratio = order_and_ratios(imp_order_p_ortho, 0.1)\n",
    "np.array(prune_ratio), orig_size"
   ]
  },
  {
   "cell_type": "markdown",
   "metadata": {},
   "source": [
    "#### Define pruned network"
   ]
  },
  {
   "cell_type": "code",
   "execution_count": null,
   "metadata": {
    "scrolled": true
   },
   "outputs": [],
   "source": [
    "prune_iter = 2"
   ]
  },
  {
   "cell_type": "code",
   "execution_count": null,
   "metadata": {
    "scrolled": true
   },
   "outputs": [],
   "source": [
    "# ''' Correlated network pruning '''\n",
    "# net_p1 = pruner(net_p, order_p, prune_ratio, orig_size, net_type=1)\n",
    "\n",
    "# print(\"Accs:\", cal_acc(net_p1.eval()), cal_acc(net_p.eval()))\n",
    "# print(\"Time:\", cal_time(net_p1), t_corr)"
   ]
  },
  {
   "cell_type": "code",
   "execution_count": null,
   "metadata": {},
   "outputs": [],
   "source": [
    "''' De-Correlated network pruning '''\n",
    "net_p1_ortho = pruner(net_p_ortho, order_p, prune_ratio, orig_size, net_type=2)\n",
    "\n",
    "print(\"Accs:\", cal_acc(net_p1_ortho.eval()), cal_acc(net_p_ortho.eval()))\n",
    "print(\"Time:\", cal_time(net_p1_ortho), t_decorr)"
   ]
  },
  {
   "cell_type": "markdown",
   "metadata": {},
   "source": [
    "#### Prune the pruned network again"
   ]
  },
  {
   "cell_type": "code",
   "execution_count": null,
   "metadata": {},
   "outputs": [],
   "source": [
    "# ''' Correlated network saving '''\n",
    "# net_p = net_p1\n",
    "\n",
    "# print('Saving..')\n",
    "# state = {\n",
    "#     'net_p': net_p.state_dict(),\n",
    "#     'best_p_acc': cal_acc(net_p.eval())\n",
    "# }\n",
    "# if not os.path.isdir('net_p_checkpoint'):\n",
    "#     os.mkdir('net_p_checkpoint')\n",
    "# torch.save(state, './net_p_checkpoint/ckpt'+str(prune_iter)+'.pth')"
   ]
  },
  {
   "cell_type": "code",
   "execution_count": null,
   "metadata": {},
   "outputs": [],
   "source": [
    "''' De-Correlated network saving '''\n",
    "net_p_ortho = net_p1_ortho\n",
    "\n",
    "print('Saving..')\n",
    "state = {\n",
    "    'net_p_ortho': net_p_ortho.state_dict(),\n",
    "    'best_p_ortho_acc': cal_acc(net_p_ortho.eval())\n",
    "}\n",
    "if not os.path.isdir('ortho_p_checkpoint'):\n",
    "    os.mkdir('ortho_p_checkpoint')\n",
    "torch.save(state, './ortho_p_checkpoint/ortho_ckpt'+str(prune_iter)+'.pth')"
   ]
  },
  {
   "cell_type": "markdown",
   "metadata": {},
   "source": [
    "### Load saved network"
   ]
  },
  {
   "cell_type": "code",
   "execution_count": null,
   "metadata": {},
   "outputs": [],
   "source": [
    "# ''' Correlated network loading '''\n",
    "# with open(\"./w_decorr/pruned_nets/corr/cfgs/net_p_corr_iter\"+str(1)+\".pkl\", 'rb') as f:\n",
    "#     cfg_p1 = pickle.load(f)\n",
    "    \n",
    "# net_p = torch.nn.DataParallel(MobileNet_p(cfg_p1[0], cfg_p1[1:]))\n",
    "# PATH = './net_p_checkpoint/ckpt'+str(1)+'.pth'\n",
    "# net_p.load_state_dict(torch.load(PATH)['net_p'])"
   ]
  },
  {
   "cell_type": "code",
   "execution_count": null,
   "metadata": {},
   "outputs": [],
   "source": [
    "# cal_acc(net_p.eval()), cal_acc(net_corr.eval())"
   ]
  },
  {
   "cell_type": "code",
   "execution_count": null,
   "metadata": {},
   "outputs": [],
   "source": [
    "''' De-Correlated network loading '''\n",
    "with open(\"./w_decorr/pruned_nets/decorr/cfgs/net_p_decorr_iter\"+str(1)+\".pkl\", 'rb') as f:\n",
    "    cfg_p1 = pickle.load(f)\n",
    "\n",
    "net_p_ortho = torch.nn.DataParallel(MobileNet_p(cfg_p1[0], cfg_p1[1:]))\n",
    "PATH = './ortho_p_checkpoint/ortho_ckpt'+str(1)+'.pth'\n",
    "net_p_ortho.load_state_dict(torch.load(PATH)['net_p_ortho'])    "
   ]
  },
  {
   "cell_type": "code",
   "execution_count": null,
   "metadata": {},
   "outputs": [],
   "source": [
    "cal_acc(net_p_ortho.eval()), cal_acc(net_decorr.eval())"
   ]
  },
  {
   "cell_type": "markdown",
   "metadata": {},
   "source": [
    "### FLOPS calculator"
   ]
  },
  {
   "cell_type": "code",
   "execution_count": null,
   "metadata": {},
   "outputs": [],
   "source": [
    "with torch.cuda.device(0):\n",
    "    flops, params = get_model_complexity_info(net_p_ortho, (3, 32, 32), as_strings=True, print_per_layer_stat=True)\n",
    "    print('{:<30}  {:<8}'.format('Computational complexity: ', flops))\n",
    "    \n",
    "# with torch.cuda.device(0):\n",
    "#     flops, params = get_model_complexity_info(net_p, (3, 32, 32), as_strings=True, print_per_layer_stat=True)\n",
    "#     print('{:<30}  {:<8}'.format('Computational complexity: ', flops))    "
   ]
  },
  {
   "cell_type": "code",
   "execution_count": null,
   "metadata": {},
   "outputs": [],
   "source": [
    "with torch.cuda.device(0):\n",
    "    flops, params = get_model_complexity_info(net_decorr, (3, 32, 32), as_strings=True, print_per_layer_stat=True)\n",
    "    print('{:<30}  {:<8}'.format('Computational complexity: ', flops))\n",
    "\n",
    "# with torch.cuda.device(0):\n",
    "#     flops, params = get_model_complexity_info(net_corr, (3, 32, 32), as_strings=True, print_per_layer_stat=True)\n",
    "#     print('{:<30}  {:<8}'.format('Computational complexity: ', flops))"
   ]
  }
 ],
 "metadata": {
  "@webio": {
   "lastCommId": null,
   "lastKernelId": null
  },
  "kernelspec": {
   "display_name": "Python 3",
   "language": "python",
   "name": "python3"
  },
  "language_info": {
   "codemirror_mode": {
    "name": "ipython",
    "version": 3
   },
   "file_extension": ".py",
   "mimetype": "text/x-python",
   "name": "python",
   "nbconvert_exporter": "python",
   "pygments_lexer": "ipython3",
   "version": "3.7.4"
  }
 },
 "nbformat": 4,
 "nbformat_minor": 2
}
