{
 "cells": [
  {
   "cell_type": "code",
   "execution_count": 1,
   "metadata": {},
   "outputs": [],
   "source": [
    "# -*- coding: utf-8 -*-\n",
    "import torch\n",
    "import torchvision\n",
    "import torchvision.transforms as transforms\n",
    "import matplotlib.pyplot as plt\n",
    "from matplotlib.pyplot import figure\n",
    "import numpy as np\n",
    "import torch.optim as optim"
   ]
  },
  {
   "cell_type": "code",
   "execution_count": 2,
   "metadata": {},
   "outputs": [],
   "source": [
    "from ptflops import get_model_complexity_info"
   ]
  },
  {
   "cell_type": "code",
   "execution_count": 3,
   "metadata": {},
   "outputs": [],
   "source": [
    "transform = transforms.Compose(\n",
    "    [transforms.ToTensor(),\n",
    "     transforms.Normalize((0.5, 0.5, 0.5), (0.5, 0.5, 0.5))])\n",
    "         #(0.4914, 0.4822, 0.4465), (0.2023, 0.1994, 0.2010))])\n",
    "\n",
    "trainset = torchvision.datasets.CIFAR100(root='./data', train=True,\n",
    "                                        download=False, transform=transform)\n",
    "trainloader = torch.utils.data.DataLoader(trainset, batch_size=128,\n",
    "                                          shuffle=False, num_workers=2)\n",
    "\n",
    "testset = torchvision.datasets.CIFAR100(root='./data', train=False,\n",
    "                                       download=False, transform=transform)\n",
    "testloader = torch.utils.data.DataLoader(testset, batch_size=128,\n",
    "                                         shuffle=False, num_workers=2)\n",
    "\n",
    "#classes = ('plane', 'car', 'bird', 'cat',\n",
    "#          'deer', 'dog', 'frog', 'horse', 'ship', 'truck')"
   ]
  },
  {
   "cell_type": "code",
   "execution_count": 4,
   "metadata": {},
   "outputs": [],
   "source": [
    "'''VGG11/13/16/19 in Pytorch.'''\n",
    "import torch\n",
    "import torch.nn as nn\n",
    "\n",
    "\n",
    "cfg = {\n",
    "    'VGG11': [32, 32, 'M', 64, 64, 'M', 128, 128, 'M'],\n",
    "    'VGG13': [64, 64, 'M', 128, 128, 'M', 256, 256, 'M', 512, 512, 'M', 512, 512, 'M'],\n",
    "    'VGG16': [64, 64, 'M', 128, 128, 'M', 256, 256, 256, 'M', 512, 512, 512, 'M', 512, 512, 512, 'M'],\n",
    "    'VGG19': [64, 64, 'M', 128, 128, 'M', 256, 256, 256, 256, 'M', 512, 512, 512, 512, 'M', 512, 512, 512, 512, 'M'],\n",
    "}\n",
    "\n",
    "\n",
    "class VGG(nn.Module):\n",
    "    def __init__(self, vgg_name):\n",
    "        super(VGG, self).__init__()\n",
    "        self.features = self._make_layers(cfg[vgg_name])\n",
    "#         if(cfg[vgg_name] == 'VGG13_p'):\n",
    "#             self.classifier = nn.Linear(256, 100)\n",
    "#         else:\n",
    "        self.classifier = nn.Linear(512, 100)\n",
    "\n",
    "    def forward(self, x):\n",
    "        out = self.features(x)\n",
    "        out = out.view(out.size(0), -1)\n",
    "        out = self.classifier(out)\n",
    "        return out\n",
    "\n",
    "    def _make_layers(self, cfg):\n",
    "        layers = []\n",
    "        in_channels = 3\n",
    "        for x in cfg:\n",
    "            if x == 'M':\n",
    "                layers += [nn.MaxPool2d(kernel_size=2, stride=2)]\n",
    "            else:\n",
    "                layers += [nn.Conv2d(in_channels, x, kernel_size=3, padding=1),\n",
    "                           nn.ReLU(inplace=True),\n",
    "                           nn.BatchNorm2d(x)]\n",
    "                in_channels = x\n",
    "        #layers += [nn.AvgPool2d(kernel_size=1, stride=1)]\n",
    "        return nn.Sequential(*layers)\n",
    "\n",
    "\n",
    "def test():\n",
    "    net = VGG('VGG11')\n",
    "    x = torch.randn(2,3,32,32)\n",
    "    y = net(x)\n",
    "    print(y.size())"
   ]
  },
  {
   "cell_type": "code",
   "execution_count": 5,
   "metadata": {},
   "outputs": [],
   "source": [
    "class VGG_p(nn.Module):\n",
    "    def __init__(self, vgg_name, cfg):\n",
    "        super(VGG_p, self).__init__()\n",
    "        self.features = self._make_layers(cfg)\n",
    "        self.classifier = nn.Linear(cfg[-2], 100)\n",
    "\n",
    "    def forward(self, x):\n",
    "        out = self.features(x)\n",
    "        out = out.view(out.size(0), -1)\n",
    "        out = self.classifier(out)\n",
    "        return out\n",
    "\n",
    "    def _make_layers(self, cfg):\n",
    "        layers = []\n",
    "        in_channels = 3\n",
    "        for x in cfg:\n",
    "            if x == 'M':\n",
    "                layers += [nn.MaxPool2d(kernel_size=2, stride=2)]\n",
    "            else:\n",
    "                layers += [nn.Conv2d(in_channels, x, kernel_size=3, padding=1),\n",
    "                           nn.ReLU(inplace=True),\n",
    "                           nn.BatchNorm2d(x)]\n",
    "                in_channels = x\n",
    "        #layers += [nn.AvgPool2d(kernel_size=1, stride=1)]\n",
    "        return nn.Sequential(*layers)\n",
    "\n",
    "\n",
    "def test():\n",
    "    net = VGG('VGG11')\n",
    "    x = torch.randn(2,3,32,32)\n",
    "    y = net(x)\n",
    "    print(y.size())"
   ]
  },
  {
   "cell_type": "code",
   "execution_count": 6,
   "metadata": {},
   "outputs": [
    {
     "name": "stdout",
     "output_type": "stream",
     "text": [
      "cuda:0\n"
     ]
    }
   ],
   "source": [
    "device = torch.device(\"cuda:0\" if torch.cuda.is_available() else \"cpu\")\n",
    "print(device)"
   ]
  },
  {
   "cell_type": "code",
   "execution_count": 7,
   "metadata": {},
   "outputs": [],
   "source": [
    "net_corr = VGG('VGG13').to(device)\n",
    "net_decorr = VGG('VGG13').to(device)\n",
    "criterion = nn.CrossEntropyLoss()"
   ]
  },
  {
   "cell_type": "code",
   "execution_count": 8,
   "metadata": {},
   "outputs": [
    {
     "data": {
      "text/plain": [
       "<All keys matched successfully>"
      ]
     },
     "execution_count": 8,
     "metadata": {},
     "output_type": "execute_result"
    }
   ],
   "source": [
    "PATH_corr = './cifar100_net.pth'\n",
    "PATH_decorr = './w_decorr/base_params/wnet_base_605.pth'\n",
    "\n",
    "net_corr.load_state_dict(torch.load(PATH_corr))\n",
    "net_decorr.load_state_dict(torch.load(PATH_decorr))"
   ]
  },
  {
   "cell_type": "code",
   "execution_count": 9,
   "metadata": {},
   "outputs": [],
   "source": [
    "def cal_acc(net_acc):\n",
    "    correct = 0\n",
    "    total = 0\n",
    "    with torch.no_grad():\n",
    "        for data in testloader:\n",
    "            images, labels = data[0].to(device), data[1].to(device)\n",
    "            outputs = net_acc(images)\n",
    "            _, predicted = torch.max(outputs.data, 1)\n",
    "            total += labels.size(0)\n",
    "            correct += (predicted == labels).sum().item()\n",
    "    \n",
    "    return (100 * correct / total)"
   ]
  },
  {
   "cell_type": "code",
   "execution_count": 10,
   "metadata": {},
   "outputs": [],
   "source": [
    "def cal_importance(net, l_index):\n",
    "    bias_base = net.features[l_index].bias.data.clone().detach()\n",
    "    av_corrval = 0\n",
    "\n",
    "    running_loss = 0.0\n",
    "    imp_corr_bn = torch.zeros(bias_base.shape[0]).to(device)\n",
    "\n",
    "    for i, data in enumerate(trainloader, 0):\n",
    "        inputs, labels = data[0].to(device), data[1].to(device)\n",
    "        optimizer.zero_grad()\n",
    "        outputs = net(inputs)\n",
    "        loss = criterion(outputs, labels)\n",
    "        loss.backward()\n",
    "\n",
    "        imp_corr_bn += (((net.features[l_index].weight.grad)*(net.features[l_index].weight.data)) + ((net.features[l_index].bias.grad)*(net.features[l_index].bias.data))).abs().pow(2)\n",
    "\n",
    "    imp_norm = imp_corr_bn/imp_corr_bn.max()\n",
    "    \n",
    "    neuron_order = torch.sort(imp_norm)[1]\n",
    "    \n",
    "    return neuron_order"
   ]
  },
  {
   "cell_type": "code",
   "execution_count": 11,
   "metadata": {},
   "outputs": [],
   "source": [
    "import time"
   ]
  },
  {
   "cell_type": "code",
   "execution_count": 12,
   "metadata": {},
   "outputs": [],
   "source": [
    "def cal_time(net_acc):\n",
    "    correct = 0\n",
    "    total = 0\n",
    "    \n",
    "    with torch.no_grad():\n",
    "        t_s = time.time()\n",
    "        for data in testloader:\n",
    "            images, labels = data[0].to(device), data[1].to(device)\n",
    "            outputs = net_acc(images)\n",
    "            _, predicted = torch.max(outputs.data, 1)\n",
    "            total += labels.size(0)\n",
    "            correct += (predicted == labels).sum().item()\n",
    "        t_end = time.time() - t_s\n",
    "    return (t_end / 10000)"
   ]
  },
  {
   "cell_type": "code",
   "execution_count": 13,
   "metadata": {},
   "outputs": [],
   "source": [
    "def cal_mass(net, l_index):\n",
    "    num_iter = 0\n",
    "    r = 0.0\n",
    "    with torch.no_grad():\n",
    "        for i, data in enumerate(trainloader, 0):\n",
    "            num_iter += 1\n",
    "            if(num_iter == 40):\n",
    "                break\n",
    "            inputs, labels = data[0].to(device), data[1].to(device)\n",
    "            L_self = 0.0\n",
    "            L_mat = 0.0\n",
    "\n",
    "            for epoch_num in range(1):\n",
    "                out_features = net.features[0:l_index](inputs)\n",
    "                X_t = out_features.reshape(out_features.shape[0], out_features.shape[1], -1)\n",
    "                X_t = torch.div(X_t, X_t.norm(dim=2).reshape(X_t.shape[0],X_t.shape[1],1) + 1e-10)\n",
    "                cov_mat = torch.matmul(X_t, X_t.permute(0,2,1))\n",
    "                L_mat = cov_mat.norm().pow(2)\n",
    "                \n",
    "                ident = (1 - torch.eye(out_features.shape[1])).to(device)\n",
    "                cov_mat = cov_mat*ident\n",
    "                L_self = cov_mat.norm().pow(2)\n",
    "                \n",
    "                r += 1 - L_self/L_mat\n",
    "\n",
    "            del L_self, L_mat, out_features\n",
    "            torch.cuda.empty_cache()\n",
    "        return r/num_iter"
   ]
  },
  {
   "cell_type": "code",
   "execution_count": 18,
   "metadata": {},
   "outputs": [
    {
     "data": {
      "text/plain": [
       "(tensor(0.1855, device='cuda:0'), tensor(0.1623, device='cuda:0'))"
      ]
     },
     "execution_count": 18,
     "metadata": {},
     "output_type": "execute_result"
    }
   ],
   "source": [
    "cal_mass(net_corr, 5), cal_mass(net_decorr, 5)"
   ]
  },
  {
   "cell_type": "code",
   "execution_count": 20,
   "metadata": {},
   "outputs": [],
   "source": [
    "t = net_decorr.features[28].weight.data.clone()"
   ]
  },
  {
   "cell_type": "code",
   "execution_count": 36,
   "metadata": {},
   "outputs": [],
   "source": [
    "x = torch.matmul(t, t.t())"
   ]
  },
  {
   "cell_type": "code",
   "execution_count": 42,
   "metadata": {},
   "outputs": [],
   "source": [
    "y = t.cpu().detach()"
   ]
  },
  {
   "cell_type": "code",
   "execution_count": 43,
   "metadata": {},
   "outputs": [],
   "source": [
    "u1, s1, v1 = np.linalg.svd(y)"
   ]
  },
  {
   "cell_type": "code",
   "execution_count": 41,
   "metadata": {},
   "outputs": [
    {
     "data": {
      "text/plain": [
       "array([[-0.07008411,  0.01173767, -0.04049638, ..., -0.0049091 ,\n",
       "         0.01895273,  0.00954388],\n",
       "       [ 0.02191061,  0.04450418, -0.0943447 , ...,  0.04640128,\n",
       "         0.07134519, -0.03442106],\n",
       "       [-0.01897012,  0.05343042, -0.02213094, ...,  0.01491862,\n",
       "        -0.08805279,  0.02073513],\n",
       "       ...,\n",
       "       [ 0.06502546, -0.05873912, -0.00117681, ...,  0.00189763,\n",
       "        -0.04156654, -0.03391471],\n",
       "       [ 0.00989085,  0.08695168,  0.04882242, ...,  0.0479889 ,\n",
       "         0.00949984,  0.0601676 ],\n",
       "       [-0.08530371,  0.01690112, -0.02951853, ..., -0.02423004,\n",
       "         0.0243715 , -0.06858879]], dtype=float32)"
      ]
     },
     "execution_count": 41,
     "metadata": {},
     "output_type": "execute_result"
    }
   ],
   "source": [
    "u1"
   ]
  },
  {
   "cell_type": "code",
   "execution_count": 47,
   "metadata": {},
   "outputs": [
    {
     "data": {
      "text/plain": [
       "[<matplotlib.lines.Line2D at 0x7f05541ed6a0>]"
      ]
     },
     "execution_count": 47,
     "metadata": {},
     "output_type": "execute_result"
    },
    {
     "data": {
      "image/png": "[encoded data removed]",
      "text/plain": [
       "<Figure size 432x288 with 1 Axes>"
      ]
     },
     "metadata": {
      "needs_background": "light"
     },
     "output_type": "display_data"
    }
   ],
   "source": [
    "plt.plot(u1[0,:], u1[1,:])"
   ]
  },
  {
   "cell_type": "markdown",
   "metadata": {},
   "source": [
    "### Ground importance"
   ]
  },
  {
   "cell_type": "code",
   "execution_count": 13,
   "metadata": {},
   "outputs": [],
   "source": [
    "# loss_base_corr = 0\n",
    "# num_stop = 0\n",
    "\n",
    "# for epoch in range(1):\n",
    "#     for i, data in enumerate(trainloader, 0):\n",
    "#         inputs, labels = data[0].to(device), data[1].to(device)\n",
    "#         outputs = net_corr(inputs)\n",
    "#         loss = criterion(outputs, labels)\n",
    "#         loss_base_corr += loss.item()\n",
    "#         num_stop += labels.shape[0]\n",
    "#         if(num_stop > 5000):\n",
    "#             break"
   ]
  },
  {
   "cell_type": "code",
   "execution_count": 14,
   "metadata": {},
   "outputs": [],
   "source": [
    "# imp_order_ground = {}\n",
    "# for l_index in [2, 5, 9, 12, 16, 19, 23, 26, 30, 33]:\n",
    "#     loss_mat = torch.load(\"./w_decorr/loss_corr_bn_train_\"+str(l_index)+\".pt\")\n",
    "#     imp_order_ground.update({l_index: ((loss_mat - loss_base_corr).abs().sort()[1])})#.sort()[0]})"
   ]
  },
  {
   "cell_type": "code",
   "execution_count": 15,
   "metadata": {},
   "outputs": [],
   "source": [
    "# loss_base_decorr = 0\n",
    "# num_stop = 0\n",
    "\n",
    "# for epoch in range(1):\n",
    "#     for i, data in enumerate(trainloader, 0):\n",
    "#         inputs, labels = data[0].to(device), data[1].to(device)\n",
    "#         outputs = net_decorr(inputs)\n",
    "#         loss = criterion(outputs, labels)\n",
    "#         loss_base_decorr += loss.item()\n",
    "#         num_stop += labels.shape[0]\n",
    "#         if(num_stop > 5000):\n",
    "#             break"
   ]
  },
  {
   "cell_type": "code",
   "execution_count": 16,
   "metadata": {},
   "outputs": [],
   "source": [
    "# imp_order_ground_decorr = {}\n",
    "# for l_index in [2, 5, 9, 12, 16, 19, 23, 26, 30, 33]:\n",
    "#     loss_mat = torch.load(\"./w_decorr/loss_bn_train_\"+str(l_index)+\".pt\")\n",
    "#     imp_order_ground_decorr.update({l_index: ((loss_mat - loss_base_decorr).abs().sort()[1])})#.sort()[0]})"
   ]
  },
  {
   "cell_type": "markdown",
   "metadata": {},
   "source": [
    "### TFO importance"
   ]
  },
  {
   "cell_type": "code",
   "execution_count": 17,
   "metadata": {},
   "outputs": [],
   "source": [
    "import pickle"
   ]
  },
  {
   "cell_type": "code",
   "execution_count": 18,
   "metadata": {},
   "outputs": [],
   "source": [
    "with open(\"./w_decorr/base_params/tfo_corr.pkl\", 'rb') as f:\n",
    "    imp_order_tfo = pickle.load(f)"
   ]
  },
  {
   "cell_type": "code",
   "execution_count": 19,
   "metadata": {},
   "outputs": [],
   "source": [
    "# optimizer = optim.SGD(net_corr.parameters(), lr=0, weight_decay=0)\n",
    "# imp_order_tfo = {}\n",
    "# for l_index in [2, 5, 9, 12, 16, 19, 23, 26, 30, 33]:\n",
    "#     print(l_index)\n",
    "#     imp_order_tfo.update({l_index: cal_importance(net_corr, l_index)})"
   ]
  },
  {
   "cell_type": "code",
   "execution_count": 20,
   "metadata": {},
   "outputs": [],
   "source": [
    "with open(\"./w_decorr/base_params/tfo_w_decorr_605.pkl\", 'rb') as f:\n",
    "    imp_order_tfo_decorr = pickle.load(f)"
   ]
  },
  {
   "cell_type": "code",
   "execution_count": null,
   "metadata": {},
   "outputs": [],
   "source": [
    "optimizer = optim.SGD(net_decorr.parameters(), lr=0, weight_decay=0)\n",
    "imp_order_tfo_decorr = {}\n",
    "for l_index in [2, 5, 9, 12, 16, 19, 23, 26, 30, 33]:\n",
    "    print(l_index)\n",
    "    imp_order_tfo_decorr.update({l_index: cal_importance(net_decorr, l_index)})"
   ]
  },
  {
   "cell_type": "code",
   "execution_count": null,
   "metadata": {},
   "outputs": [],
   "source": [
    "with open(\"./w_decorr/base_params/tfo_w_decorr_605.pkl\", 'wb') as f:\n",
    "    pickle.dump(imp_order_tfo_decorr, f)"
   ]
  },
  {
   "cell_type": "markdown",
   "metadata": {},
   "source": [
    "### Net-slim importance"
   ]
  },
  {
   "cell_type": "code",
   "execution_count": null,
   "metadata": {},
   "outputs": [],
   "source": [
    "imp_order_slim = {}\n",
    "for l_index in [2, 5, 9, 12, 16, 19, 23, 26, 30, 33]:\n",
    "    slim_mat = net_corr.features[l_index].weight.data.clone()\n",
    "    imp_order_slim.update({l_index: ((slim_mat).abs().sort()[1])})"
   ]
  },
  {
   "cell_type": "code",
   "execution_count": null,
   "metadata": {},
   "outputs": [],
   "source": [
    "imp_order_slim_decorr = {}\n",
    "for l_index in [2, 5, 9, 12, 16, 19, 23, 26, 30, 33]:\n",
    "    slim_mat = net_decorr.features[l_index].weight.data.clone()\n",
    "    imp_order_slim_decorr.update({l_index: ((slim_mat).abs().sort()[1])})"
   ]
  },
  {
   "cell_type": "markdown",
   "metadata": {},
   "source": [
    "### L2 importance"
   ]
  },
  {
   "cell_type": "code",
   "execution_count": null,
   "metadata": {},
   "outputs": [],
   "source": [
    "imp_order_l2 = {}\n",
    "for l_index in [2, 5, 9, 12, 16, 19, 23, 26, 30, 33]:\n",
    "    l2_mat = (net_corr.features[l_index-2].weight.data.clone()).pow(2).sum(dim=(1,2,3))\n",
    "    imp_order_l2.update({l_index: ((l2_mat).abs().sort()[1])})"
   ]
  },
  {
   "cell_type": "code",
   "execution_count": null,
   "metadata": {},
   "outputs": [],
   "source": [
    "imp_order_l2_decorr = {}\n",
    "for l_index in [2, 5, 9, 12, 16, 19, 23, 26, 30, 33]:\n",
    "    l2_mat = (net_decorr.features[l_index-2].weight.data.clone()).pow(2).sum(dim=(1,2,3))\n",
    "    imp_order_l2_decorr.update({l_index: ((l2_mat).abs().sort()[1])})"
   ]
  },
  {
   "cell_type": "markdown",
   "metadata": {},
   "source": [
    "### Random importance"
   ]
  },
  {
   "cell_type": "code",
   "execution_count": null,
   "metadata": {},
   "outputs": [],
   "source": [
    "imp_order_rand = {}\n",
    "for l_index in [2, 5, 9, 12, 16, 19, 23, 26, 30, 33]:\n",
    "    rand_mat = torch.tensor((np.random.randint(0,net_corr.features[l_index].bias.shape[0],net_corr.features[l_index].bias.shape[0])))\n",
    "    imp_order_rand.update({l_index: ((rand_mat).sort()[1])})"
   ]
  },
  {
   "cell_type": "code",
   "execution_count": null,
   "metadata": {},
   "outputs": [],
   "source": [
    "imp_order_rand_decorr = {}\n",
    "for l_index in [2, 5, 9, 12, 16, 19, 23, 26, 30, 33]:\n",
    "    rand_mat = torch.tensor((np.random.randint(0,net_decorr.features[l_index].bias.shape[0],net_decorr.features[l_index].bias.shape[0])))\n",
    "    imp_order_rand_decorr.update({l_index: ((rand_mat).sort()[1])})"
   ]
  },
  {
   "cell_type": "markdown",
   "metadata": {},
   "source": [
    "### Computational importance"
   ]
  },
  {
   "cell_type": "code",
   "execution_count": 21,
   "metadata": {},
   "outputs": [],
   "source": [
    "l_imp = []\n",
    "\n",
    "for layer_index in [3, 6, 10, 13, 17, 20, 24, 27, 31, 34]:\n",
    "    \n",
    "    _, _, w_in, h_in = net_corr.features[0:layer_index](torch.zeros(1,3,32,32).to(device)).shape\n",
    "    \n",
    "    c_out, c_in, w_f, h_f = net_corr.features[layer_index-3].weight.shape\n",
    "    \n",
    "    l_imp.append((c_in*w_f*h_f)*(w_in*h_in)*c_out*(c_out*(c_in*w_f*h_f))**(1/5))\n",
    "    \n",
    "l_imp = np.array(l_imp)\n",
    "l_imp = l_imp/l_imp.sum()"
   ]
  },
  {
   "cell_type": "code",
   "execution_count": 22,
   "metadata": {},
   "outputs": [
    {
     "data": {
      "text/plain": [
       "array([0.00257669, 0.10137537, 0.05822486, 0.1337656 , 0.07682816,\n",
       "       0.17650477, 0.10137537, 0.23289944, 0.05822486, 0.05822486])"
      ]
     },
     "execution_count": 22,
     "metadata": {},
     "output_type": "execute_result"
    }
   ],
   "source": [
    "l_imp"
   ]
  },
  {
   "cell_type": "markdown",
   "metadata": {},
   "source": [
    "### Pruning"
   ]
  },
  {
   "cell_type": "code",
   "execution_count": 23,
   "metadata": {},
   "outputs": [],
   "source": [
    "def cfg_p(prune_ratio, orig_size, save_cfg_corr=0, save_cfg=0):\n",
    "    cfg_list = []\n",
    "\n",
    "    for i in range(4):\n",
    "        cfg_list.append(int(orig_size[2*i]*(1-prune_ratio[2*i])))\n",
    "        cfg_list.append(int(orig_size[2*i+1]*(1-prune_ratio[2*i+1])))\n",
    "        cfg_list.append('M')\n",
    "\n",
    "    cfg_list.append(int(orig_size[8]*(1-prune_ratio[8])))\n",
    "    cfg_list.append(int(orig_size[9]*(1-prune_ratio[9])))\n",
    "    cfg_list.append('M')\n",
    "    \n",
    "    if(save_cfg == 1):\n",
    "        with open(\"./w_decorr/pruned_nets/corr/cfgs/net_p_corr_iter\"+str(prune_iter)+\".pkl\", 'wb') as f:\n",
    "            pickle.dump(cfg_list, f)\n",
    "\n",
    "    elif(save_cfg == 2):\n",
    "        with open(\"./w_decorr/pruned_nets/decorr/cfgs/net_p_decorr_iter\"+str(prune_iter)+\".pkl\", 'wb') as f:\n",
    "            pickle.dump(cfg_list, f)\n",
    "    \n",
    "    return cfg_list"
   ]
  },
  {
   "cell_type": "code",
   "execution_count": 24,
   "metadata": {},
   "outputs": [],
   "source": [
    "def pruner(net, imp_order, prune_ratio, orig_size, net_type=0):\n",
    "    \n",
    "    if(net_type==1):\n",
    "        cfg = cfg_p(prune_ratio, orig_size, save_cfg=1)\n",
    "    elif(net_type==2):\n",
    "        cfg = cfg_p(prune_ratio, orig_size, save_cfg=2)\n",
    "    else:\n",
    "        cfg = cfg_p(prune_ratio, orig_size)        \n",
    "    \n",
    "    net_pruned = VGG_p('VGG13_p', cfg).to(device)\n",
    "    bn = [2, 5, 9, 12, 16, 19, 23, 26, 30, 33]\n",
    "        \n",
    "    for l in range(len(bn)):\n",
    "        if(l == 0):\n",
    "            n_c = int(imp_order[bn[l]].shape[0]*prune_ratio[l])\n",
    "            order_c = (imp_order[bn[l]][n_c:]).sort()[0]\n",
    "            \n",
    "            net_pruned.features[bn[l]-2].weight.data = net.features[bn[l]-2].weight[order_c].data.detach().clone()\n",
    "            net_pruned.features[bn[l]-2].bias.data = net.features[bn[l]-2].bias[order_c].data.detach().clone()\n",
    "\n",
    "            net_pruned.features[bn[l]].weight.data = net.features[bn[l]].weight[order_c].data.detach().clone()\n",
    "            net_pruned.features[bn[l]].bias.data = net.features[bn[l]].bias[order_c].data.detach().clone()    \n",
    "            net_pruned.features[bn[l]].running_var.data = net.features[bn[l]].running_var[order_c].detach().clone()\n",
    "            net_pruned.features[bn[l]].running_mean.data = net.features[bn[l]].running_mean[order_c].detach().clone()    \n",
    "            continue\n",
    "        \n",
    "        n_p = int(imp_order[bn[l-1]].shape[0]*prune_ratio[l-1])\n",
    "        n_c = int(imp_order[bn[l]].shape[0]*prune_ratio[l])\n",
    "\n",
    "        order_p = (imp_order[bn[l-1]][n_p:]).sort()[0]\n",
    "        order_c = (imp_order[bn[l]][n_c:]).sort()[0]\n",
    "        \n",
    "        net_pruned.features[bn[l]-2].weight.data = net.features[bn[l]-2].weight[order_c][:,order_p].detach().clone()\n",
    "        net_pruned.features[bn[l]-2].bias.data = net.features[bn[l]-2].bias[order_c].detach().clone()\n",
    "\n",
    "        net_pruned.features[bn[l]].weight.data = net.features[bn[l]].weight[order_c].detach().clone()\n",
    "        net_pruned.features[bn[l]].bias.data = net.features[bn[l]].bias[order_c].detach().clone()    \n",
    "        net_pruned.features[bn[l]].running_var.data = net.features[bn[l]].running_var[order_c].detach().clone()\n",
    "        net_pruned.features[bn[l]].running_mean.data = net.features[bn[l]].running_mean[order_c].detach().clone()    \n",
    "    \n",
    "    n_33 = int(imp_order[33].shape[0]*prune_ratio[-1])\n",
    "    order_33 = (imp_order[33][n_33:]).sort()[0]\n",
    "\n",
    "    net_pruned.classifier.weight.data = net.classifier.weight[:,order_33].detach().clone()\n",
    "    net_pruned.classifier.bias.data = net.classifier.bias.detach().clone()\n",
    "    \n",
    "    return net_pruned"
   ]
  },
  {
   "cell_type": "markdown",
   "metadata": {},
   "source": [
    "## Retraining"
   ]
  },
  {
   "cell_type": "code",
   "execution_count": null,
   "metadata": {},
   "outputs": [],
   "source": [
    "prune_iter = 1"
   ]
  },
  {
   "cell_type": "markdown",
   "metadata": {},
   "source": [
    "#### Pruning ratio"
   ]
  },
  {
   "cell_type": "code",
   "execution_count": null,
   "metadata": {},
   "outputs": [],
   "source": [
    "l_imp = []\n",
    "\n",
    "for layer_index in [3, 6, 10, 13, 17, 20, 24, 27, 31, 34]:\n",
    "    \n",
    "    _, _, w_in, h_in = net_corr.features[0:layer_index](torch.zeros(1,3,32,32).to(device)).shape\n",
    "    \n",
    "    c_out, c_in, w_f, h_f = net_corr.features[layer_index-3].weight.shape\n",
    "    \n",
    "    l_imp.append((c_in*w_f*h_f)*(w_in*h_in)*c_out*((c_out*c_in*w_f*h_f)**(1/5)))\n",
    "    \n",
    "l_imp = np.array(l_imp)\n",
    "l_imp = l_imp/l_imp.sum()"
   ]
  },
  {
   "cell_type": "code",
   "execution_count": null,
   "metadata": {},
   "outputs": [],
   "source": [
    "orig_size = np.array([net_corr.features[0].weight.shape[0], net_corr.features[3].weight.shape[0], net_corr.features[7].weight.shape[0], net_corr.features[10].weight.shape[0], net_corr.features[14].weight.shape[0], net_corr.features[17].weight.shape[0], net_corr.features[21].weight.shape[0], net_corr.features[24].weight.shape[0], net_corr.features[28].weight.shape[0], net_corr.features[31].weight.shape[0]])\n",
    "s = orig_size.sum()\n",
    "prune_ratio = 1*l_imp\n",
    "print(\"Prune ratios: \", (prune_ratio*orig_size).sum()/s)"
   ]
  },
  {
   "cell_type": "code",
   "execution_count": null,
   "metadata": {},
   "outputs": [],
   "source": [
    "(1-prune_ratio)*orig_size"
   ]
  },
  {
   "cell_type": "markdown",
   "metadata": {},
   "source": [
    "### Correlated network pruning"
   ]
  },
  {
   "cell_type": "markdown",
   "metadata": {},
   "source": [
    "#### Define pruned network"
   ]
  },
  {
   "cell_type": "code",
   "execution_count": null,
   "metadata": {},
   "outputs": [],
   "source": [
    "# net_corr.load_state_dict(torch.load(PATH_corr))\n",
    "# net_p = pruner(net_corr, imp_order_tfo, prune_ratio, orig_size, net_type=1)"
   ]
  },
  {
   "cell_type": "code",
   "execution_count": 143,
   "metadata": {},
   "outputs": [
    {
     "name": "stdout",
     "output_type": "stream",
     "text": [
      "60.29 58.74\n"
     ]
    }
   ],
   "source": [
    "print(cal_acc(net_corr.eval()), cal_acc(net_p.eval()))"
   ]
  },
  {
   "cell_type": "code",
   "execution_count": null,
   "metadata": {},
   "outputs": [],
   "source": [
    "t = 0\n",
    "for i in range(5):\n",
    "    t += (1 - cal_time(net_p) / cal_time(net_corr))\n",
    "print(t/5)"
   ]
  },
  {
   "cell_type": "markdown",
   "metadata": {},
   "source": [
    "#### Load correlated pruned network"
   ]
  },
  {
   "cell_type": "code",
   "execution_count": 142,
   "metadata": {
    "scrolled": false
   },
   "outputs": [
    {
     "data": {
      "text/plain": [
       "<All keys matched successfully>"
      ]
     },
     "execution_count": 142,
     "metadata": {},
     "output_type": "execute_result"
    }
   ],
   "source": [
    "# PATH = './w_decorr/pruned_nets/corr/nets/net_p_iter'+str(prune_iter)+'.pth'\n",
    "PATH = './w_decorr/pruned_nets/net_temp.pth'\n",
    "net_p.load_state_dict(torch.load(PATH))"
   ]
  },
  {
   "cell_type": "markdown",
   "metadata": {},
   "source": [
    "#### Retraining"
   ]
  },
  {
   "cell_type": "code",
   "execution_count": 148,
   "metadata": {},
   "outputs": [],
   "source": [
    "import torch.optim as optim\n",
    "\n",
    "criterion = nn.CrossEntropyLoss()\n",
    "optimizer = optim.Adam(net_p.parameters(), lr=0.00001, betas=(0.9, 0.999), eps=1e-08, weight_decay=5e-4, amsgrad=False)"
   ]
  },
  {
   "cell_type": "code",
   "execution_count": 151,
   "metadata": {},
   "outputs": [
    {
     "name": "stdout",
     "output_type": "stream",
     "text": [
      "[1,   391] loss: 0.004\n",
      "59.87\n",
      "[2,   391] loss: 0.004\n",
      "59.74\n",
      "Finished Training\n"
     ]
    }
   ],
   "source": [
    "for epoch in range(2):\n",
    "    running_loss = 0.0\n",
    "    num_iter = 0\n",
    "    for i, data in enumerate(trainloader, 0):\n",
    "        num_iter += 1\n",
    "        inputs, labels = data[0].to(device), data[1].to(device)\n",
    "\n",
    "        optimizer.zero_grad()\n",
    "        outputs = net_p(inputs)\n",
    "        \n",
    "        loss = criterion(outputs, labels)\n",
    "        loss.backward()\n",
    "        optimizer.step()\n",
    "            \n",
    "        running_loss += loss.item()\n",
    "        \n",
    "    print('[%d, %5d] loss: %.3f' %\n",
    "          (epoch + 1, i + 1, running_loss / num_iter))\n",
    "    print(cal_acc(net_p.eval()))\n",
    "print('Finished Training')"
   ]
  },
  {
   "cell_type": "markdown",
   "metadata": {},
   "source": [
    "#### Save correlated pruned network"
   ]
  },
  {
   "cell_type": "code",
   "execution_count": null,
   "metadata": {},
   "outputs": [],
   "source": [
    "PATH = './w_decorr/pruned_nets/corr/nets/net_p_iter'+str(prune_iter)+'.pth'\n",
    "# PATH = './w_decorr/pruned_nets/net_temp1.pth'\n",
    "torch.save(net_p.state_dict(), PATH)"
   ]
  },
  {
   "cell_type": "code",
   "execution_count": null,
   "metadata": {},
   "outputs": [],
   "source": [
    "prune_iter"
   ]
  },
  {
   "cell_type": "markdown",
   "metadata": {},
   "source": [
    "### Decorrelated network pruning"
   ]
  },
  {
   "cell_type": "markdown",
   "metadata": {},
   "source": [
    "#### Define pruned network"
   ]
  },
  {
   "cell_type": "code",
   "execution_count": null,
   "metadata": {},
   "outputs": [],
   "source": [
    "# net_decorr.load_state_dict(torch.load(PATH_decorr))\n",
    "# net_p = pruner(net_decorr, imp_order_tfo_decorr, prune_ratio, orig_size, net_type=2)"
   ]
  },
  {
   "cell_type": "code",
   "execution_count": 164,
   "metadata": {},
   "outputs": [
    {
     "name": "stdout",
     "output_type": "stream",
     "text": [
      "60.5 59.91\n"
     ]
    }
   ],
   "source": [
    "print(cal_acc(net_decorr.eval()), cal_acc(net_p.eval()))"
   ]
  },
  {
   "cell_type": "code",
   "execution_count": null,
   "metadata": {},
   "outputs": [],
   "source": [
    "t = 0\n",
    "for i in range(5):\n",
    "    t += (1 - cal_time(net_p) / cal_time(net_decorr))\n",
    "print(t/5)"
   ]
  },
  {
   "cell_type": "markdown",
   "metadata": {},
   "source": [
    "#### Load decorrelated pruned network"
   ]
  },
  {
   "cell_type": "code",
   "execution_count": 173,
   "metadata": {},
   "outputs": [
    {
     "data": {
      "text/plain": [
       "<All keys matched successfully>"
      ]
     },
     "execution_count": 173,
     "metadata": {},
     "output_type": "execute_result"
    }
   ],
   "source": [
    "PATH = './w_decorr/pruned_nets/decorr/nets/net_p_iter'+str(prune_iter)+'.pth'\n",
    "# PATH = './w_decorr/pruned_nets/net_temp.pth'\n",
    "net_p.load_state_dict(torch.load(PATH))"
   ]
  },
  {
   "cell_type": "markdown",
   "metadata": {},
   "source": [
    "#### Computational Importance"
   ]
  },
  {
   "cell_type": "code",
   "execution_count": 42,
   "metadata": {},
   "outputs": [],
   "source": [
    "l_imp_p = []\n",
    "\n",
    "for layer_index in [3, 6, 10, 13, 17, 20, 24, 27, 31, 34]:\n",
    "    \n",
    "    _, _, w_in, h_in = net_decorr.features[0:layer_index](torch.zeros(1,3,32,32).to(device)).shape\n",
    "    \n",
    "    c_out, c_in, w_f, h_f = net_decorr.features[layer_index-3].weight.shape\n",
    "    \n",
    "    l_imp_p.append((c_in*w_f*h_f)*(w_in*h_in)*c_out*(c_out*(c_in*w_f*h_f))**(1/8))\n",
    "    \n",
    "    \n",
    "l_imp_p = np.array(l_imp_p)\n",
    "l_imp_p = l_imp_p/l_imp_p.sum()"
   ]
  },
  {
   "cell_type": "code",
   "execution_count": 43,
   "metadata": {},
   "outputs": [],
   "source": [
    "l_impd = {}\n",
    "i = 0\n",
    "for conv_ind in [0, 3, 7, 10, 14, 17, 21, 24, 28, 31]:\n",
    "    l_impd.update({conv_ind: l_imp_p[i]})\n",
    "    i+=1"
   ]
  },
  {
   "cell_type": "markdown",
   "metadata": {},
   "source": [
    "#### Retraining"
   ]
  },
  {
   "cell_type": "code",
   "execution_count": 178,
   "metadata": {},
   "outputs": [],
   "source": [
    "import torch.optim as optim\n",
    "\n",
    "criterion = nn.CrossEntropyLoss()\n",
    "optimizer = optim.Adam(net_p.parameters(), lr=0.00001, betas=(0.9, 0.999), eps=1e-08, weight_decay=0, amsgrad=False)"
   ]
  },
  {
   "cell_type": "code",
   "execution_count": null,
   "metadata": {},
   "outputs": [
    {
     "name": "stdout",
     "output_type": "stream",
     "text": [
      "angle_cost:  0.18161767381993707\n",
      "diag_mass_ratio:  7546475.170923732\n",
      "[1,   391] loss: 0.023\n",
      "58.84\n",
      "angle_cost:  0.15095627372679504\n",
      "diag_mass_ratio:  7763124.302780139\n",
      "[2,   391] loss: 0.019\n",
      "58.76\n"
     ]
    }
   ],
   "source": [
    "for epoch in range(5):  # loop over the dataset multiple times\n",
    "    running_loss = 0.0\n",
    "    num_iter = 0\n",
    "    angle_cost = 0.0\n",
    "    for i, data in enumerate(trainloader, 0):\n",
    "        num_iter += 1\n",
    "        inputs, labels = data[0].to(device), data[1].to(device)\n",
    "\n",
    "        optimizer.zero_grad()\n",
    "\n",
    "        outputs = net_p(inputs)\n",
    "        L_angle = 0\n",
    "        for conv_ind in [3, 7, 10, 14, 17, 21, 24, 28, 31]:\n",
    "            w_mat = net_p.features[conv_ind].weight\n",
    "            w_mat1 = (w_mat.reshape(w_mat.shape[0],-1))\n",
    "            \n",
    "            b_mat = net_p.features[conv_ind].bias\n",
    "            b_mat1 = (b_mat.reshape(b_mat.shape[0],-1))\n",
    "            \n",
    "            params = torch.cat((w_mat1, b_mat1), dim=1)\n",
    "            \n",
    "            angle_mat = torch.matmul(params, torch.t(params)) - torch.eye(w_mat.shape[0]).to(device)\n",
    "            \n",
    "            L_angle += (l_impd[conv_ind])*(angle_mat).norm(1)\n",
    "            \n",
    "        Lc = criterion(outputs, labels)\n",
    "        loss = (1e-1)*(L_angle) + Lc\n",
    "        \n",
    "        loss.backward()\n",
    "        optimizer.step()\n",
    "        running_loss += loss.item()\n",
    "        angle_cost += (L_angle).item()\n",
    "    \n",
    "    print(\"angle_cost: \", angle_cost/num_iter)\n",
    "    print(\"diag_mass_ratio: \", (num_iter*(64+128+256+1024)*2)/(L_angle.detach().cpu().numpy()))\n",
    "    print('[%d, %5d] loss: %.3f' %\n",
    "          (epoch + 1, i + 1, running_loss / num_iter))\n",
    "    running_loss = 0.0\n",
    "    print(cal_acc(net_p.eval()))\n",
    "    \n",
    "print('Finished Training')"
   ]
  },
  {
   "cell_type": "markdown",
   "metadata": {},
   "source": [
    "#### Save decorrelated pruned network"
   ]
  },
  {
   "cell_type": "code",
   "execution_count": 118,
   "metadata": {},
   "outputs": [
    {
     "data": {
      "text/plain": [
       "5"
      ]
     },
     "execution_count": 118,
     "metadata": {},
     "output_type": "execute_result"
    }
   ],
   "source": [
    "prune_iter"
   ]
  },
  {
   "cell_type": "code",
   "execution_count": 150,
   "metadata": {},
   "outputs": [],
   "source": [
    "PATH = './w_decorr/pruned_nets/decorr/nets/net_p_iter'+str(prune_iter)+'.pth'\n",
    "# PATH = './w_decorr/pruned_nets/net_temp1.pth'\n",
    "torch.save(net_p.state_dict(), PATH)"
   ]
  },
  {
   "cell_type": "markdown",
   "metadata": {},
   "source": [
    "#### Evaluate orthogonality of filters in pruned network"
   ]
  },
  {
   "cell_type": "code",
   "execution_count": 162,
   "metadata": {},
   "outputs": [
    {
     "name": "stdout",
     "output_type": "stream",
     "text": [
      "tensor(0.1871, grad_fn=<DivBackward0>)\n",
      "tensor(0.9998, grad_fn=<DivBackward0>)\n",
      "tensor(0.9997, grad_fn=<DivBackward0>)\n",
      "tensor(0.9996, grad_fn=<DivBackward0>)\n",
      "tensor(0.9994, grad_fn=<DivBackward0>)\n",
      "tensor(0.9993, grad_fn=<DivBackward0>)\n",
      "tensor(0.9990, grad_fn=<DivBackward0>)\n",
      "tensor(0.9988, grad_fn=<DivBackward0>)\n",
      "tensor(0.9984, grad_fn=<DivBackward0>)\n",
      "tensor(0.9979, grad_fn=<DivBackward0>)\n"
     ]
    }
   ],
   "source": [
    "# L_diag = 0\n",
    "# L_angle = 0\n",
    "for conv_ind in [0, 3, 7, 10, 14, 17, 21, 24, 28, 31]:\n",
    "    w_mat = net_p.features[conv_ind].weight\n",
    "    w_mat1 = (w_mat.reshape(w_mat.shape[0],-1))\n",
    "\n",
    "    b_mat = net_p.features[conv_ind].bias\n",
    "    b_mat1 = (b_mat.reshape(b_mat.shape[0],-1))\n",
    "\n",
    "    params = torch.cat((w_mat1, b_mat1), dim=1)\n",
    "\n",
    "    angle_mat = torch.matmul(params, torch.t(params))\n",
    "\n",
    "    L_diag = (angle_mat.diag().norm(1))\n",
    "    L_angle = (angle_mat.norm(1))\n",
    "    \n",
    "    print(L_diag.cpu()/L_angle.cpu())"
   ]
  },
  {
   "cell_type": "markdown",
   "metadata": {},
   "source": [
    "### Subsequent pruning"
   ]
  },
  {
   "cell_type": "markdown",
   "metadata": {},
   "source": [
    "#### Importance"
   ]
  },
  {
   "cell_type": "code",
   "execution_count": 88,
   "metadata": {},
   "outputs": [
    {
     "name": "stdout",
     "output_type": "stream",
     "text": [
      "2\n",
      "5\n",
      "9\n",
      "12\n",
      "16\n",
      "19\n",
      "23\n",
      "26\n",
      "30\n",
      "33\n"
     ]
    }
   ],
   "source": [
    "optimizer = optim.SGD(net_p.parameters(), lr=0, weight_decay=0)\n",
    "imp_order_tfo_p = {}\n",
    "for l_index in [2, 5, 9, 12, 16, 19, 23, 26, 30, 33]:\n",
    "    print(l_index)\n",
    "    imp_order_tfo_p.update({l_index: cal_importance(net_p, l_index)})"
   ]
  },
  {
   "cell_type": "code",
   "execution_count": 89,
   "metadata": {},
   "outputs": [],
   "source": [
    "### De-Correlated network saving ###\n",
    "with open(\"./w_decorr/pruned_nets/decorr/tfo_order/tfo_w_decorr_p\"+str(prune_iter)+\".pkl\", 'wb') as f:\n",
    "    pickle.dump(imp_order_tfo_p, f)\n",
    "\n",
    "\n",
    "### Correlated network saving ###\n",
    "# with open(\"./w_decorr/pruned_nets/corr/tfo_order/tfo_corr_p\"+str(prune_iter)+\".pkl\", 'wb') as f:\n",
    "#     pickle.dump(imp_order_tfo_p, f)"
   ]
  },
  {
   "cell_type": "code",
   "execution_count": null,
   "metadata": {},
   "outputs": [],
   "source": [
    "### De-Correlated network loading ###\n",
    "# with open(\"./w_decorr/decorr/pruned_nets/tfo_order/tfo_w_decorr_p\"+str(prune_iter)+\".pkl\", 'rb') as f:\n",
    "#     imp_order_tfo_p = pickle.load(f)\n",
    "\n",
    "### Correlated network loading ###\n",
    "# with open(\"./w_decorr/pruned_nets/corr/tfo_order/tfo_corr_p\"+str(prune_iter)+\".pkl\", 'wb') as f:\n",
    "#     imp_order_tfo_p = pickle.load(f)"
   ]
  },
  {
   "cell_type": "code",
   "execution_count": null,
   "metadata": {},
   "outputs": [],
   "source": [
    "imp_order_slim_p = {}\n",
    "for l_index in [2, 5, 9, 12, 16, 19, 23, 26, 30, 33]:\n",
    "    slim_mat = net_p.features[l_index].weight.data.clone()\n",
    "    imp_order_slim_p.update({l_index: ((slim_mat).abs().sort()[1])})"
   ]
  },
  {
   "cell_type": "code",
   "execution_count": null,
   "metadata": {},
   "outputs": [],
   "source": [
    "imp_order_l2_p = {}\n",
    "for l_index in [2, 5, 9, 12, 16, 19, 23, 26, 30, 33]:\n",
    "    l2_mat = (net_p.features[l_index-2].weight.data.clone()).pow(2).sum(dim=(1,2,3))\n",
    "    imp_order_l2_p.update({l_index: ((l2_mat).abs().sort()[1])})"
   ]
  },
  {
   "cell_type": "markdown",
   "metadata": {},
   "source": [
    "#### Computational Importance"
   ]
  },
  {
   "cell_type": "code",
   "execution_count": 90,
   "metadata": {},
   "outputs": [],
   "source": [
    "l_imp_p = []\n",
    "\n",
    "for layer_index in [3, 6, 10, 13, 17, 20, 24, 27, 31, 34]:\n",
    "    \n",
    "    _, _, w_in, h_in = net_p.features[0:layer_index](torch.zeros(1,3,32,32).to(device)).shape\n",
    "    \n",
    "    c_out, c_in, w_f, h_f = net_p.features[layer_index-3].weight.shape\n",
    "    \n",
    "    l_imp_p.append((c_in*w_f*h_f)*(w_in*h_in)*c_out*(c_out*(c_in*w_f*h_f))**(1/5))\n",
    "    \n",
    "    \n",
    "l_imp_p = np.array(l_imp_p)\n",
    "l_imp_p = l_imp_p/l_imp_p.sum()"
   ]
  },
  {
   "cell_type": "code",
   "execution_count": 91,
   "metadata": {},
   "outputs": [],
   "source": [
    "l_imp_p[0] += 13/63"
   ]
  },
  {
   "cell_type": "markdown",
   "metadata": {},
   "source": [
    "#### Define pruning ratios"
   ]
  },
  {
   "cell_type": "code",
   "execution_count": 92,
   "metadata": {},
   "outputs": [
    {
     "name": "stdout",
     "output_type": "stream",
     "text": [
      "Prune ratios:  0.12035978809017822\n"
     ]
    }
   ],
   "source": [
    "orig_size = np.array([net_p.features[0].weight.shape[0], net_p.features[3].weight.shape[0], net_p.features[7].weight.shape[0], net_p.features[10].weight.shape[0], net_p.features[14].weight.shape[0], net_p.features[17].weight.shape[0], net_p.features[21].weight.shape[0], net_p.features[24].weight.shape[0], net_p.features[28].weight.shape[0], net_p.features[31].weight.shape[0]])\n",
    "s = orig_size.sum()\n",
    "prune_ratio = 1.25*l_imp_p\n",
    "print(\"Prune ratios: \", (prune_ratio*orig_size).sum()/s)"
   ]
  },
  {
   "cell_type": "code",
   "execution_count": 93,
   "metadata": {},
   "outputs": [
    {
     "data": {
      "text/plain": [
       "array([ 46.68867303,  25.12090761,  85.17349817,  49.86653353,\n",
       "       156.37496885,  85.63858827, 291.50236431, 146.48433927,\n",
       "       373.32928496, 302.94149856])"
      ]
     },
     "execution_count": 93,
     "metadata": {},
     "output_type": "execute_result"
    }
   ],
   "source": [
    "(1-prune_ratio)*orig_size"
   ]
  },
  {
   "cell_type": "markdown",
   "metadata": {},
   "source": [
    "#### Prune the pruned network again"
   ]
  },
  {
   "cell_type": "code",
   "execution_count": 94,
   "metadata": {},
   "outputs": [],
   "source": [
    "prune_iter = 5"
   ]
  },
  {
   "cell_type": "code",
   "execution_count": 95,
   "metadata": {},
   "outputs": [],
   "source": [
    "### De-Correlated ###\n",
    "net_p1 = pruner(net_p, imp_order_tfo_p, prune_ratio, orig_size, net_type=2)\n",
    "\n",
    "### Correlated ###\n",
    "# net_p1 = pruner(net_p, imp_order_tfo_p, prune_ratio, orig_size, net_type=1)"
   ]
  },
  {
   "cell_type": "markdown",
   "metadata": {},
   "source": [
    "#### Evaluate pruned network"
   ]
  },
  {
   "cell_type": "code",
   "execution_count": 96,
   "metadata": {
    "scrolled": true
   },
   "outputs": [
    {
     "name": "stdout",
     "output_type": "stream",
     "text": [
      "0.5006363808687233\n"
     ]
    }
   ],
   "source": [
    "t = 0\n",
    "for i in range(10):\n",
    "    t += 1 - cal_time(net_p1) / cal_time(net_corr)\n",
    "print(t / 10)"
   ]
  },
  {
   "cell_type": "code",
   "execution_count": 97,
   "metadata": {},
   "outputs": [
    {
     "data": {
      "text/plain": [
       "(48.4, 60.2)"
      ]
     },
     "execution_count": 97,
     "metadata": {},
     "output_type": "execute_result"
    }
   ],
   "source": [
    "cal_acc(net_p1.eval()), cal_acc(net_p.eval())"
   ]
  },
  {
   "cell_type": "code",
   "execution_count": 98,
   "metadata": {},
   "outputs": [],
   "source": [
    "net_p = net_p1"
   ]
  },
  {
   "cell_type": "markdown",
   "metadata": {},
   "source": [
    "#### Save next pruned network"
   ]
  },
  {
   "cell_type": "code",
   "execution_count": 99,
   "metadata": {},
   "outputs": [
    {
     "data": {
      "text/plain": [
       "5"
      ]
     },
     "execution_count": 99,
     "metadata": {},
     "output_type": "execute_result"
    }
   ],
   "source": [
    "prune_iter"
   ]
  },
  {
   "cell_type": "code",
   "execution_count": 100,
   "metadata": {},
   "outputs": [],
   "source": [
    "### De-Correlated network saving ###\n",
    "PATH = './w_decorr/pruned_nets/decorr/nets/net_p_iter'+str(prune_iter)+'.pth'\n",
    "torch.save(net_p1.state_dict(), PATH)\n",
    "\n",
    "### Correlated network saving ###\n",
    "# PATH = './w_decorr/pruned_nets/corr/nets/net_p_iter'+str(prune_iter)+'.pth'\n",
    "# torch.save(net_p1.state_dict(), PATH)"
   ]
  },
  {
   "cell_type": "markdown",
   "metadata": {},
   "source": [
    "### Load saved network"
   ]
  },
  {
   "cell_type": "code",
   "execution_count": null,
   "metadata": {},
   "outputs": [],
   "source": [
    "# cfg_p1 = [1, 1, 'M', 1, 1, 'M', 1, 1, 'M', 1, 1, 'M', 1, 1, 'M']\n",
    "# cfg_p1 = []\n",
    "# for layer_index in [3, 6, 10, 13, 17, 20, 24, 27, 31, 34]:\n",
    "#     cfg_p.append(net_p.features[layer_index-1].weight.shape[0])"
   ]
  },
  {
   "cell_type": "code",
   "execution_count": 26,
   "metadata": {},
   "outputs": [],
   "source": [
    "with open(\"./w_decorr/pruned_nets/decorr/cfgs/net_p_decorr_iter3.pkl\", 'rb') as f:\n",
    "    cfg_p1 = pickle.load(f)\n",
    "    \n",
    "for i in [0, 1, 3, 4, 6, 7, 9, 10, 12, 13]:\n",
    "    cfg_p1[i] += 1"
   ]
  },
  {
   "cell_type": "code",
   "execution_count": null,
   "metadata": {},
   "outputs": [],
   "source": [
    "cfg_p1"
   ]
  },
  {
   "cell_type": "code",
   "execution_count": 27,
   "metadata": {},
   "outputs": [],
   "source": [
    "net_p = VGG_p('VGG13_p', cfg_p1).to(device)"
   ]
  },
  {
   "cell_type": "code",
   "execution_count": 28,
   "metadata": {},
   "outputs": [
    {
     "data": {
      "text/plain": [
       "<All keys matched successfully>"
      ]
     },
     "execution_count": 28,
     "metadata": {},
     "output_type": "execute_result"
    }
   ],
   "source": [
    "# PATH = './w_decorr/pruned_nets/decorr/nets/net_p_iter'+str(5)+'.pth'\n",
    "PATH = './w_decorr/pruned_nets/decorr/nets/net_p_iter3.pth'\n",
    "net_p.load_state_dict(torch.load(PATH))"
   ]
  },
  {
   "cell_type": "code",
   "execution_count": 29,
   "metadata": {},
   "outputs": [
    {
     "data": {
      "text/plain": [
       "(60.81, 60.5)"
      ]
     },
     "execution_count": 29,
     "metadata": {},
     "output_type": "execute_result"
    }
   ],
   "source": [
    "cal_acc(net_p.eval()), cal_acc(net_decorr.eval())"
   ]
  },
  {
   "cell_type": "markdown",
   "metadata": {},
   "source": [
    "### FLOPS calculator"
   ]
  },
  {
   "cell_type": "code",
   "execution_count": null,
   "metadata": {},
   "outputs": [],
   "source": [
    "with torch.cuda.device(0):\n",
    "    flops, params = get_model_complexity_info(net_p, (3, 32, 32), as_strings=True, print_per_layer_stat=True)\n",
    "    print('{:<30}  {:<8}'.format('Computational complexity: ', flops))"
   ]
  }
 ],
 "metadata": {
  "@webio": {
   "lastCommId": null,
   "lastKernelId": null
  },
  "kernelspec": {
   "display_name": "Python 3",
   "language": "python",
   "name": "python3"
  },
  "language_info": {
   "codemirror_mode": {
    "name": "ipython",
    "version": 3
   },
   "file_extension": ".py",
   "mimetype": "text/x-python",
   "name": "python",
   "nbconvert_exporter": "python",
   "pygments_lexer": "ipython3",
   "version": "3.6.9"
  }
 },
 "nbformat": 4,
 "nbformat_minor": 2
}
